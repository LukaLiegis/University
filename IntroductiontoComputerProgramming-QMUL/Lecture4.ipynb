{
 "cells": [
  {
   "cell_type": "markdown",
   "source": [
    "### Ranges\n",
    "`range(start, stop, step)`"
   ],
   "metadata": {
    "collapsed": false
   },
   "id": "e0f44fb9925cbf86"
  },
  {
   "cell_type": "code",
   "execution_count": 10,
   "id": "initial_id",
   "metadata": {
    "collapsed": true,
    "ExecuteTime": {
     "end_time": "2024-02-12T14:50:02.363376Z",
     "start_time": "2024-02-12T14:50:02.360166Z"
    }
   },
   "outputs": [
    {
     "name": "stdout",
     "output_type": "stream",
     "text": [
      "range(0, 10)\n"
     ]
    }
   ],
   "source": [
    "digits_range = range(0, 10, 1)\n",
    "print(digits_range)"
   ]
  },
  {
   "cell_type": "code",
   "outputs": [
    {
     "data": {
      "text/plain": "[0, 1, 2, 3, 4, 5, 6, 7, 8, 9]"
     },
     "execution_count": 11,
     "metadata": {},
     "output_type": "execute_result"
    }
   ],
   "source": [
    "list(digits_range)"
   ],
   "metadata": {
    "collapsed": false,
    "ExecuteTime": {
     "end_time": "2024-02-12T14:50:02.368916Z",
     "start_time": "2024-02-12T14:50:02.364156Z"
    }
   },
   "id": "3861203eede44508",
   "execution_count": 11
  },
  {
   "cell_type": "code",
   "outputs": [
    {
     "name": "stdout",
     "output_type": "stream",
     "text": [
      "range(0, 10, 2)\n"
     ]
    }
   ],
   "source": [
    "digits_range_2 = range(0, 10, 2)\n",
    "print(digits_range_2)"
   ],
   "metadata": {
    "collapsed": false,
    "ExecuteTime": {
     "end_time": "2024-02-12T14:50:02.371753Z",
     "start_time": "2024-02-12T14:50:02.367819Z"
    }
   },
   "id": "9de22e8453c8665a",
   "execution_count": 12
  },
  {
   "cell_type": "code",
   "outputs": [
    {
     "data": {
      "text/plain": "[0, 2, 4, 6, 8]"
     },
     "execution_count": 13,
     "metadata": {},
     "output_type": "execute_result"
    }
   ],
   "source": [
    "list(digits_range_2)"
   ],
   "metadata": {
    "collapsed": false,
    "ExecuteTime": {
     "end_time": "2024-02-12T14:50:02.374365Z",
     "start_time": "2024-02-12T14:50:02.370114Z"
    }
   },
   "id": "ca4120dae0de0031",
   "execution_count": 13
  },
  {
   "cell_type": "code",
   "outputs": [
    {
     "name": "stdout",
     "output_type": "stream",
     "text": [
      "[0, 2, 4, 6, 8, 10, 12, 14, 16, 18, 20, 22, 24, 26, 28, 30, 32, 34, 36, 38, 40, 42, 44, 46, 48, 50, 52, 54, 56, 58, 60, 62, 64, 66, 68, 70, 72, 74, 76, 78, 80, 82, 84, 86, 88, 90, 92, 94, 96, 98]\n"
     ]
    }
   ],
   "source": [
    "even_range = range(0, 100, 2)\n",
    "even_list = list(even_range)\n",
    "print(even_list)"
   ],
   "metadata": {
    "collapsed": false,
    "ExecuteTime": {
     "end_time": "2024-02-12T14:50:02.377352Z",
     "start_time": "2024-02-12T14:50:02.374584Z"
    }
   },
   "id": "e2a8b1736a459d91",
   "execution_count": 14
  },
  {
   "cell_type": "code",
   "outputs": [
    {
     "name": "stdout",
     "output_type": "stream",
     "text": [
      "[20, 19, 18, 17, 16, 15, 14, 13, 12, 11, 10, 9, 8, 7, 6, 5, 4, 3, 2, 1]\n"
     ]
    }
   ],
   "source": [
    "print(list(range(20, 0, -1)))"
   ],
   "metadata": {
    "collapsed": false,
    "ExecuteTime": {
     "end_time": "2024-02-12T14:50:02.379935Z",
     "start_time": "2024-02-12T14:50:02.377514Z"
    }
   },
   "id": "13642aa5fe335977",
   "execution_count": 15
  },
  {
   "cell_type": "markdown",
   "source": [
    "While ranges are not printed, it is possible to call a value via indexing"
   ],
   "metadata": {
    "collapsed": false
   },
   "id": "14c6945d2ca1a472"
  },
  {
   "cell_type": "code",
   "outputs": [
    {
     "data": {
      "text/plain": "16"
     },
     "execution_count": 16,
     "metadata": {},
     "output_type": "execute_result"
    }
   ],
   "source": [
    "range(10, 20, 3)[2]"
   ],
   "metadata": {
    "collapsed": false,
    "ExecuteTime": {
     "end_time": "2024-02-12T14:51:03.627834Z",
     "start_time": "2024-02-12T14:51:03.623641Z"
    }
   },
   "id": "87c96b14619d1894",
   "execution_count": 16
  },
  {
   "cell_type": "markdown",
   "source": [
    "### List Comprehensions"
   ],
   "metadata": {
    "collapsed": false
   },
   "id": "40944e03be096fa"
  },
  {
   "cell_type": "code",
   "outputs": [
    {
     "name": "stdout",
     "output_type": "stream",
     "text": [
      "[1, 4, 9, 16, 25, 36, 49, 64, 81, 100, 121, 144, 169, 196, 225, 256, 289, 324, 361, 400, 441, 484, 529, 576, 625, 676, 729, 784, 841, 900, 961, 1024, 1089, 1156, 1225, 1296, 1369, 1444, 1521, 1600, 1681, 1764, 1849, 1936, 2025, 2116, 2209, 2304, 2401, 2500, 2601, 2704, 2809, 2916, 3025, 3136, 3249, 3364, 3481, 3600, 3721, 3844, 3969, 4096, 4225, 4356, 4489, 4624, 4761, 4900, 5041]\n"
     ]
    }
   ],
   "source": [
    "print([n ** 2 for n in range(1, 72)])"
   ],
   "metadata": {
    "collapsed": false,
    "ExecuteTime": {
     "end_time": "2024-02-12T14:55:21.238496Z",
     "start_time": "2024-02-12T14:55:21.232064Z"
    }
   },
   "id": "d23a466f54b7aee4",
   "execution_count": 18
  },
  {
   "cell_type": "code",
   "outputs": [
    {
     "name": "stdout",
     "output_type": "stream",
     "text": [
      "[1, 2, 3, 4, 5, 6, 7, 8, 9, 10, 11, 12, 13, 14, 15, 16, 17, 18, 19, 20]\n",
      "[1, 2, 3, 4, 5, 6, 7, 8, 9, 10, 11, 12, 13, 14, 15, 16, 17, 18, 19, 20]\n",
      "[1, 2, 3, 4, 5, 6, 7, 8, 9, 10, 11, 12, 13, 14, 15, 16, 17, 18, 19, 20]\n"
     ]
    }
   ],
   "source": [
    "list1 = [1, 2, 3, 4, 5, 6, 7, 8, 9, 10, 11, 12, 13, 14, 15, 16, 17, 18, 19, 20]\n",
    "print(list1)\n",
    "list2 = list(range(1, 21))\n",
    "print(list2)\n",
    "list3 = [n for n in range(1, 21)]\n",
    "print(list3)"
   ],
   "metadata": {
    "collapsed": false,
    "ExecuteTime": {
     "end_time": "2024-02-12T14:57:13.449001Z",
     "start_time": "2024-02-12T14:57:13.444841Z"
    }
   },
   "id": "8c41f3b72bf855b8",
   "execution_count": 19
  },
  {
   "cell_type": "code",
   "outputs": [
    {
     "name": "stdout",
     "output_type": "stream",
     "text": [
      "[0, 1, 2, 0, 1, 2, 0, 1, 2, 0, 1, 2, 0, 1, 2, 0, 1, 2, 0, 1, 2]\n"
     ]
    }
   ],
   "source": [
    "print([n % 3 for n in range(21)])"
   ],
   "metadata": {
    "collapsed": false,
    "ExecuteTime": {
     "end_time": "2024-02-12T14:58:14.798608Z",
     "start_time": "2024-02-12T14:58:14.795684Z"
    }
   },
   "id": "1fff27cce166c619",
   "execution_count": 21
  },
  {
   "cell_type": "code",
   "outputs": [
    {
     "name": "stdout",
     "output_type": "stream",
     "text": [
      "[1, 1, 1, 1, 1, 1, 1, 1, 1, 1, 1, 1, 1, 1, 1, 1, 1, 1, 1, 1, 1, 1, 1, 1, 1, 1, 1, 1, 1, 1]\n"
     ]
    }
   ],
   "source": [
    "print([1 for n in range(30)])"
   ],
   "metadata": {
    "collapsed": false,
    "ExecuteTime": {
     "end_time": "2024-02-12T15:05:03.196031Z",
     "start_time": "2024-02-12T15:05:03.185713Z"
    }
   },
   "id": "d402e4240a2d37cf",
   "execution_count": 22
  },
  {
   "cell_type": "markdown",
   "source": [
    "### Tuples"
   ],
   "metadata": {
    "collapsed": false
   },
   "id": "bfbe65cf0218b511"
  },
  {
   "cell_type": "code",
   "outputs": [
    {
     "name": "stdout",
     "output_type": "stream",
     "text": [
      "(2023, 'January', 30)\n"
     ]
    }
   ],
   "source": [
    "today = (2023, \"January\", 30)\n",
    "print(today)"
   ],
   "metadata": {
    "collapsed": false,
    "ExecuteTime": {
     "end_time": "2024-02-12T15:08:44.121060Z",
     "start_time": "2024-02-12T15:08:44.115702Z"
    }
   },
   "id": "d8afaa3c9d4573c6",
   "execution_count": 23
  },
  {
   "cell_type": "markdown",
   "source": [
    "#### Indexing Tuples"
   ],
   "metadata": {
    "collapsed": false
   },
   "id": "8277672e6375cf14"
  },
  {
   "cell_type": "code",
   "outputs": [
    {
     "name": "stdout",
     "output_type": "stream",
     "text": [
      "2023\n",
      "January\n",
      "30\n"
     ]
    }
   ],
   "source": [
    "print(today[0])\n",
    "print(today[1])\n",
    "print(today[2])"
   ],
   "metadata": {
    "collapsed": false,
    "ExecuteTime": {
     "end_time": "2024-02-12T15:10:51.514756Z",
     "start_time": "2024-02-12T15:10:51.510960Z"
    }
   },
   "id": "d40dbdcc54e9f1ef",
   "execution_count": 25
  },
  {
   "cell_type": "markdown",
   "source": [
    "#### Operations on Tuple Entries"
   ],
   "metadata": {
    "collapsed": false
   },
   "id": "a437fcdee0b98e7f"
  },
  {
   "cell_type": "code",
   "outputs": [
    {
     "data": {
      "text/plain": "2053"
     },
     "execution_count": 26,
     "metadata": {},
     "output_type": "execute_result"
    }
   ],
   "source": [
    "today[0] + today[2]"
   ],
   "metadata": {
    "collapsed": false,
    "ExecuteTime": {
     "end_time": "2024-02-12T15:11:39.414245Z",
     "start_time": "2024-02-12T15:11:39.411247Z"
    }
   },
   "id": "63a6dbee0509ab8b",
   "execution_count": 26
  },
  {
   "cell_type": "code",
   "outputs": [],
   "source": [],
   "metadata": {
    "collapsed": false
   },
   "id": "c7761f46d35c0a4e"
  }
 ],
 "metadata": {
  "kernelspec": {
   "display_name": "Python 3",
   "language": "python",
   "name": "python3"
  },
  "language_info": {
   "codemirror_mode": {
    "name": "ipython",
    "version": 2
   },
   "file_extension": ".py",
   "mimetype": "text/x-python",
   "name": "python",
   "nbconvert_exporter": "python",
   "pygments_lexer": "ipython2",
   "version": "2.7.6"
  }
 },
 "nbformat": 4,
 "nbformat_minor": 5
}
