{
 "cells": [
  {
   "cell_type": "code",
   "execution_count": 1,
   "id": "initial_id",
   "metadata": {
    "collapsed": true,
    "ExecuteTime": {
     "end_time": "2024-03-01T09:30:21.238383Z",
     "start_time": "2024-03-01T09:30:20.949563Z"
    }
   },
   "outputs": [],
   "source": [
    "import numpy as np\n",
    "import matplotlib.pyplot as plt"
   ]
  },
  {
   "cell_type": "markdown",
   "source": [
    "### More on Sequences"
   ],
   "metadata": {
    "collapsed": false
   },
   "id": "9d1ff18c5a5da826"
  },
  {
   "cell_type": "markdown",
   "source": [
    "#### Reminder 1: Indexing"
   ],
   "metadata": {
    "collapsed": false
   },
   "id": "12087bf46cc1580f"
  },
  {
   "cell_type": "code",
   "outputs": [
    {
     "name": "stdout",
     "output_type": "stream",
     "text": [
      "1 1\n",
      "233\n"
     ]
    }
   ],
   "source": [
    "fibonacci = [1, 1, 2, 3, 5, 8, 13, 21, 34, 55, 89, 144, 233]\n",
    "print(fibonacci[0], fibonacci[1]) # Indexing starts at zero\n",
    "print(fibonacci[-1]) # Last element of the list"
   ],
   "metadata": {
    "collapsed": false,
    "ExecuteTime": {
     "end_time": "2024-03-01T09:32:04.518677Z",
     "start_time": "2024-03-01T09:32:04.513005Z"
    }
   },
   "id": "47ffb1e50fe44560",
   "execution_count": 3
  },
  {
   "cell_type": "markdown",
   "source": [
    "#### Reminder 2: List Comprehension\n",
    "Verify that the list contains Fibonacci numbers by taking the difference of neighbouring entries  "
   ],
   "metadata": {
    "collapsed": false
   },
   "id": "759e3803036b2490"
  },
  {
   "cell_type": "code",
   "outputs": [
    {
     "name": "stdout",
     "output_type": "stream",
     "text": [
      "[0, 1, 1, 2, 3, 5, 8, 13, 21, 34, 55, 89]\n"
     ]
    }
   ],
   "source": [
    "fibonacci = [1, 1, 2, 3, 5, 8, 13, 21, 34, 55, 89, 144, 233]\n",
    "print([fibonacci[i + 1] - fibonacci[i] for i in range(len(fibonacci) - 1)])"
   ],
   "metadata": {
    "collapsed": false,
    "ExecuteTime": {
     "end_time": "2024-03-01T09:40:14.361005Z",
     "start_time": "2024-03-01T09:40:14.355348Z"
    }
   },
   "id": "35a3788974c19b9e",
   "execution_count": 10
  },
  {
   "cell_type": "markdown",
   "source": [
    "#### Reminder 3: Tuples\n",
    "Tuples are like lists, but **immutable!**"
   ],
   "metadata": {
    "collapsed": false
   },
   "id": "eea4adcc7567c027"
  },
  {
   "cell_type": "code",
   "outputs": [],
   "source": [
    "l = [1, 2, 3]\n",
    "l[1] = -10"
   ],
   "metadata": {
    "collapsed": false,
    "ExecuteTime": {
     "end_time": "2024-03-01T09:42:57.401121Z",
     "start_time": "2024-03-01T09:42:57.394608Z"
    }
   },
   "id": "68160fa284f0b737",
   "execution_count": 12
  },
  {
   "cell_type": "code",
   "outputs": [
    {
     "ename": "TypeError",
     "evalue": "'tuple' object does not support item assignment",
     "output_type": "error",
     "traceback": [
      "\u001B[0;31m---------------------------------------------------------------------------\u001B[0m",
      "\u001B[0;31mTypeError\u001B[0m                                 Traceback (most recent call last)",
      "Cell \u001B[0;32mIn[13], line 2\u001B[0m\n\u001B[1;32m      1\u001B[0m t \u001B[38;5;241m=\u001B[39m (\u001B[38;5;241m1\u001B[39m, \u001B[38;5;241m2\u001B[39m, \u001B[38;5;241m3\u001B[39m)\n\u001B[0;32m----> 2\u001B[0m \u001B[43mt\u001B[49m\u001B[43m[\u001B[49m\u001B[38;5;241;43m1\u001B[39;49m\u001B[43m]\u001B[49m \u001B[38;5;241m=\u001B[39m \u001B[38;5;241m-\u001B[39m\u001B[38;5;241m10\u001B[39m\n",
      "\u001B[0;31mTypeError\u001B[0m: 'tuple' object does not support item assignment"
     ]
    }
   ],
   "source": [
    "t = (1, 2, 3)\n",
    "t[1] = -10"
   ],
   "metadata": {
    "collapsed": false,
    "ExecuteTime": {
     "end_time": "2024-03-01T09:43:17.954095Z",
     "start_time": "2024-03-01T09:43:17.950594Z"
    }
   },
   "id": "1d38a13bb8fb138a",
   "execution_count": 13
  },
  {
   "cell_type": "markdown",
   "source": [
    "#### Slicing"
   ],
   "metadata": {
    "collapsed": false
   },
   "id": "6d55709ce9c2072d"
  },
  {
   "cell_type": "code",
   "outputs": [
    {
     "name": "stdout",
     "output_type": "stream",
     "text": [
      "[1, 1, 2, 3, 5, 8, 13, 21, 34, 55, 89, 144, 233]\n",
      "[5, 8, 13, 21, 34, 55, 89, 144, 233]\n",
      "[5, 8, 13]\n",
      "[1, 1, 2, 3, 5, 8, 13]\n",
      "[1, 1, 2, 3, 5, 8, 13, 21, 34, 55, 89, 144, 233]\n"
     ]
    }
   ],
   "source": [
    "print(fibonacci)\n",
    "print(fibonacci[4:])\n",
    "print(fibonacci[4:4+3])\n",
    "print(fibonacci[:7])\n",
    "print(fibonacci[:])"
   ],
   "metadata": {
    "collapsed": false,
    "ExecuteTime": {
     "end_time": "2024-03-01T09:44:52.315118Z",
     "start_time": "2024-03-01T09:44:52.307666Z"
    }
   },
   "id": "19304562c82ae798",
   "execution_count": 18
  },
  {
   "cell_type": "code",
   "outputs": [
    {
     "name": "stdout",
     "output_type": "stream",
     "text": [
      "[]\n",
      "0\n",
      "[]\n"
     ]
    }
   ],
   "source": [
    "print(fibonacci[5:5])\n",
    "print(len([]))\n",
    "print(fibonacci[5:4])"
   ],
   "metadata": {
    "collapsed": false,
    "ExecuteTime": {
     "end_time": "2024-03-01T09:46:32.168879Z",
     "start_time": "2024-03-01T09:46:32.164845Z"
    }
   },
   "id": "207784e26a0ce17a",
   "execution_count": 23
  },
  {
   "cell_type": "code",
   "outputs": [
    {
     "name": "stdout",
     "output_type": "stream",
     "text": [
      "[1, 1, 2, 3, 5, 8, 13, 21, 34, 55, 89, 144, 233]\n",
      "[3, 5, 8, 13, 21, 34, 55, 89]\n",
      "[3, 5, 8, 13]\n"
     ]
    }
   ],
   "source": [
    "print(fibonacci)\n",
    "print(fibonacci[3:-2])\n",
    "print(fibonacci[-10:7])"
   ],
   "metadata": {
    "collapsed": false,
    "ExecuteTime": {
     "end_time": "2024-03-01T09:48:39.296115Z",
     "start_time": "2024-03-01T09:48:39.287940Z"
    }
   },
   "id": "f164c804a6454144",
   "execution_count": 27
  },
  {
   "cell_type": "markdown",
   "source": [
    "Slicing with `[-n:]` gives the last $n$ entries."
   ],
   "metadata": {
    "collapsed": false
   },
   "id": "2ce41d0cd0895f81"
  },
  {
   "cell_type": "code",
   "outputs": [
    {
     "data": {
      "text/plain": "[55, 89, 144, 233]"
     },
     "execution_count": 29,
     "metadata": {},
     "output_type": "execute_result"
    }
   ],
   "source": [
    "fibonacci[-4:]"
   ],
   "metadata": {
    "collapsed": false,
    "ExecuteTime": {
     "end_time": "2024-03-01T09:51:22.217781Z",
     "start_time": "2024-03-01T09:51:22.215140Z"
    }
   },
   "id": "ca3398e112ca092b",
   "execution_count": 29
  },
  {
   "cell_type": "markdown",
   "source": [
    "Finally, by giving a third argument we can skip over entries."
   ],
   "metadata": {
    "collapsed": false
   },
   "id": "a4813e2b44fc55b5"
  },
  {
   "cell_type": "code",
   "outputs": [
    {
     "name": "stdout",
     "output_type": "stream",
     "text": [
      "[1, 1, 2, 3, 5, 8, 13, 21, 34, 55, 89, 144, 233]\n",
      "[1, 1, 2, 3, 5, 8, 13, 21]\n",
      "[1, 2, 5, 13]\n",
      "[1, 3, 8, 21, 55, 144]\n"
     ]
    }
   ],
   "source": [
    "print(fibonacci)\n",
    "print(fibonacci[0:8:1])\n",
    "print(fibonacci[0:8:2])\n",
    "print(fibonacci[1:13:2])"
   ],
   "metadata": {
    "collapsed": false,
    "ExecuteTime": {
     "end_time": "2024-03-01T09:52:32.383723Z",
     "start_time": "2024-03-01T09:52:32.379617Z"
    }
   },
   "id": "418a088cc7404622",
   "execution_count": 33
  },
  {
   "cell_type": "markdown",
   "source": [
    "In a sense it works as `[start:stop:step]`"
   ],
   "metadata": {
    "collapsed": false
   },
   "id": "8eeaa28b0ef72537"
  },
  {
   "cell_type": "markdown",
   "source": [
    "Slicing also works with tuples:"
   ],
   "metadata": {
    "collapsed": false
   },
   "id": "ed718c37ff2fdad4"
  },
  {
   "cell_type": "code",
   "outputs": [
    {
     "name": "stdout",
     "output_type": "stream",
     "text": [
      "(2019, 'February', 21)\n"
     ]
    }
   ],
   "source": [
    "today = (2019, \"February\", 21)\n",
    "print(today)"
   ],
   "metadata": {
    "collapsed": false,
    "ExecuteTime": {
     "end_time": "2024-03-01T09:55:01.581018Z",
     "start_time": "2024-03-01T09:55:01.576838Z"
    }
   },
   "id": "4d573d9024a16fe7",
   "execution_count": 34
  },
  {
   "cell_type": "code",
   "outputs": [
    {
     "name": "stdout",
     "output_type": "stream",
     "text": [
      "2019\n",
      "(2019,)\n",
      "(2019, 'February', 21)\n"
     ]
    }
   ],
   "source": [
    "print(today[0])\n",
    "print(today[0:1])\n",
    "print(today[0:3])"
   ],
   "metadata": {
    "collapsed": false,
    "ExecuteTime": {
     "end_time": "2024-03-01T09:55:36.490656Z",
     "start_time": "2024-03-01T09:55:36.485636Z"
    }
   },
   "id": "c9b4da39bb9a697b",
   "execution_count": 37
  },
  {
   "cell_type": "markdown",
   "source": [
    "### Generators"
   ],
   "metadata": {
    "collapsed": false
   },
   "id": "f4e608b96566065b"
  },
  {
   "cell_type": "code",
   "outputs": [
    {
     "name": "stdout",
     "output_type": "stream",
     "text": [
      "<class 'int'>\n"
     ]
    }
   ],
   "source": [
    "print(type(3))"
   ],
   "metadata": {
    "collapsed": false,
    "ExecuteTime": {
     "end_time": "2024-03-01T09:56:31.301630Z",
     "start_time": "2024-03-01T09:56:31.297714Z"
    }
   },
   "id": "b034841e1c1b5a25",
   "execution_count": 38
  },
  {
   "cell_type": "code",
   "outputs": [],
   "source": [],
   "metadata": {
    "collapsed": false
   },
   "id": "727ddba33fda5a9"
  }
 ],
 "metadata": {
  "kernelspec": {
   "display_name": "Python 3",
   "language": "python",
   "name": "python3"
  },
  "language_info": {
   "codemirror_mode": {
    "name": "ipython",
    "version": 2
   },
   "file_extension": ".py",
   "mimetype": "text/x-python",
   "name": "python",
   "nbconvert_exporter": "python",
   "pygments_lexer": "ipython2",
   "version": "2.7.6"
  }
 },
 "nbformat": 4,
 "nbformat_minor": 5
}
