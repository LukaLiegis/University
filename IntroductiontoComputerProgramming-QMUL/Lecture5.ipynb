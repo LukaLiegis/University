{
 "cells": [
  {
   "cell_type": "code",
   "execution_count": 6,
   "id": "initial_id",
   "metadata": {
    "collapsed": true,
    "ExecuteTime": {
     "end_time": "2024-03-02T14:17:36.068836Z",
     "start_time": "2024-03-02T14:17:36.066916Z"
    }
   },
   "outputs": [],
   "source": [
    "import numpy as np\n",
    "import matplotlib.pyplot as plt"
   ]
  },
  {
   "cell_type": "markdown",
   "source": [
    "### More on Sequences"
   ],
   "metadata": {
    "collapsed": false
   },
   "id": "9d1ff18c5a5da826"
  },
  {
   "cell_type": "markdown",
   "source": [
    "#### Reminder 1: Indexing"
   ],
   "metadata": {
    "collapsed": false
   },
   "id": "12087bf46cc1580f"
  },
  {
   "cell_type": "code",
   "outputs": [
    {
     "name": "stdout",
     "output_type": "stream",
     "text": [
      "1 1\n",
      "233\n"
     ]
    }
   ],
   "source": [
    "fibonacci = [1, 1, 2, 3, 5, 8, 13, 21, 34, 55, 89, 144, 233]\n",
    "print(fibonacci[0], fibonacci[1]) # Indexing starts at zero\n",
    "print(fibonacci[-1]) # Last element of the list"
   ],
   "metadata": {
    "collapsed": false,
    "ExecuteTime": {
     "end_time": "2024-03-02T14:17:37.314248Z",
     "start_time": "2024-03-02T14:17:37.312027Z"
    }
   },
   "id": "47ffb1e50fe44560",
   "execution_count": 7
  },
  {
   "cell_type": "markdown",
   "source": [
    "#### Reminder 2: List Comprehension\n",
    "Verify that the list contains Fibonacci numbers by taking the difference of neighbouring entries  "
   ],
   "metadata": {
    "collapsed": false
   },
   "id": "759e3803036b2490"
  },
  {
   "cell_type": "code",
   "outputs": [
    {
     "name": "stdout",
     "output_type": "stream",
     "text": [
      "[0, 1, 1, 2, 3, 5, 8, 13, 21, 34, 55, 89]\n"
     ]
    }
   ],
   "source": [
    "fibonacci = [1, 1, 2, 3, 5, 8, 13, 21, 34, 55, 89, 144, 233]\n",
    "print([fibonacci[i + 1] - fibonacci[i] for i in range(len(fibonacci) - 1)])"
   ],
   "metadata": {
    "collapsed": false,
    "ExecuteTime": {
     "end_time": "2024-03-02T14:17:38.057652Z",
     "start_time": "2024-03-02T14:17:38.055476Z"
    }
   },
   "id": "35a3788974c19b9e",
   "execution_count": 8
  },
  {
   "cell_type": "markdown",
   "source": [
    "#### Reminder 3: Tuples\n",
    "Tuples are like lists, but **immutable!**"
   ],
   "metadata": {
    "collapsed": false
   },
   "id": "eea4adcc7567c027"
  },
  {
   "cell_type": "code",
   "outputs": [],
   "source": [
    "l = [1, 2, 3]\n",
    "l[1] = -10"
   ],
   "metadata": {
    "collapsed": false,
    "ExecuteTime": {
     "end_time": "2024-03-02T14:17:38.809036Z",
     "start_time": "2024-03-02T14:17:38.807070Z"
    }
   },
   "id": "68160fa284f0b737",
   "execution_count": 9
  },
  {
   "cell_type": "code",
   "outputs": [
    {
     "ename": "TypeError",
     "evalue": "'tuple' object does not support item assignment",
     "output_type": "error",
     "traceback": [
      "\u001B[0;31m---------------------------------------------------------------------------\u001B[0m",
      "\u001B[0;31mTypeError\u001B[0m                                 Traceback (most recent call last)",
      "Cell \u001B[0;32mIn[10], line 2\u001B[0m\n\u001B[1;32m      1\u001B[0m t \u001B[38;5;241m=\u001B[39m (\u001B[38;5;241m1\u001B[39m, \u001B[38;5;241m2\u001B[39m, \u001B[38;5;241m3\u001B[39m)\n\u001B[0;32m----> 2\u001B[0m \u001B[43mt\u001B[49m\u001B[43m[\u001B[49m\u001B[38;5;241;43m1\u001B[39;49m\u001B[43m]\u001B[49m \u001B[38;5;241m=\u001B[39m \u001B[38;5;241m-\u001B[39m\u001B[38;5;241m10\u001B[39m\n",
      "\u001B[0;31mTypeError\u001B[0m: 'tuple' object does not support item assignment"
     ]
    }
   ],
   "source": [
    "t = (1, 2, 3)\n",
    "t[1] = -10"
   ],
   "metadata": {
    "collapsed": false,
    "ExecuteTime": {
     "end_time": "2024-03-02T14:17:39.264688Z",
     "start_time": "2024-03-02T14:17:39.257628Z"
    }
   },
   "id": "1d38a13bb8fb138a",
   "execution_count": 10
  },
  {
   "cell_type": "markdown",
   "source": [
    "#### Slicing"
   ],
   "metadata": {
    "collapsed": false
   },
   "id": "6d55709ce9c2072d"
  },
  {
   "cell_type": "code",
   "outputs": [
    {
     "name": "stdout",
     "output_type": "stream",
     "text": [
      "[1, 1, 2, 3, 5, 8, 13, 21, 34, 55, 89, 144, 233]\n",
      "[5, 8, 13, 21, 34, 55, 89, 144, 233]\n",
      "[5, 8, 13]\n",
      "[1, 1, 2, 3, 5, 8, 13]\n",
      "[1, 1, 2, 3, 5, 8, 13, 21, 34, 55, 89, 144, 233]\n"
     ]
    }
   ],
   "source": [
    "print(fibonacci)\n",
    "print(fibonacci[4:])\n",
    "print(fibonacci[4:4+3])\n",
    "print(fibonacci[:7])\n",
    "print(fibonacci[:])"
   ],
   "metadata": {
    "collapsed": false,
    "ExecuteTime": {
     "end_time": "2024-03-02T14:17:40.146038Z",
     "start_time": "2024-03-02T14:17:40.143980Z"
    }
   },
   "id": "19304562c82ae798",
   "execution_count": 11
  },
  {
   "cell_type": "code",
   "outputs": [
    {
     "name": "stdout",
     "output_type": "stream",
     "text": [
      "[]\n",
      "0\n",
      "[]\n"
     ]
    }
   ],
   "source": [
    "print(fibonacci[5:5])\n",
    "print(len([]))\n",
    "print(fibonacci[5:4])"
   ],
   "metadata": {
    "collapsed": false,
    "ExecuteTime": {
     "end_time": "2024-03-02T14:17:40.587242Z",
     "start_time": "2024-03-02T14:17:40.584487Z"
    }
   },
   "id": "207784e26a0ce17a",
   "execution_count": 12
  },
  {
   "cell_type": "code",
   "outputs": [
    {
     "name": "stdout",
     "output_type": "stream",
     "text": [
      "[1, 1, 2, 3, 5, 8, 13, 21, 34, 55, 89, 144, 233]\n",
      "[3, 5, 8, 13, 21, 34, 55, 89]\n",
      "[3, 5, 8, 13]\n"
     ]
    }
   ],
   "source": [
    "print(fibonacci)\n",
    "print(fibonacci[3:-2])\n",
    "print(fibonacci[-10:7])"
   ],
   "metadata": {
    "collapsed": false,
    "ExecuteTime": {
     "end_time": "2024-03-02T14:17:40.978501Z",
     "start_time": "2024-03-02T14:17:40.976164Z"
    }
   },
   "id": "f164c804a6454144",
   "execution_count": 13
  },
  {
   "cell_type": "markdown",
   "source": [
    "Slicing with `[-n:]` gives the last $n$ entries."
   ],
   "metadata": {
    "collapsed": false
   },
   "id": "2ce41d0cd0895f81"
  },
  {
   "cell_type": "code",
   "outputs": [
    {
     "data": {
      "text/plain": "[55, 89, 144, 233]"
     },
     "execution_count": 14,
     "metadata": {},
     "output_type": "execute_result"
    }
   ],
   "source": [
    "fibonacci[-4:]"
   ],
   "metadata": {
    "collapsed": false,
    "ExecuteTime": {
     "end_time": "2024-03-02T14:17:41.934547Z",
     "start_time": "2024-03-02T14:17:41.929847Z"
    }
   },
   "id": "ca3398e112ca092b",
   "execution_count": 14
  },
  {
   "cell_type": "markdown",
   "source": [
    "Finally, by giving a third argument we can skip over entries."
   ],
   "metadata": {
    "collapsed": false
   },
   "id": "a4813e2b44fc55b5"
  },
  {
   "cell_type": "code",
   "outputs": [
    {
     "name": "stdout",
     "output_type": "stream",
     "text": [
      "[1, 1, 2, 3, 5, 8, 13, 21, 34, 55, 89, 144, 233]\n",
      "[1, 1, 2, 3, 5, 8, 13, 21]\n",
      "[1, 2, 5, 13]\n",
      "[1, 3, 8, 21, 55, 144]\n"
     ]
    }
   ],
   "source": [
    "print(fibonacci)\n",
    "print(fibonacci[0:8:1])\n",
    "print(fibonacci[0:8:2])\n",
    "print(fibonacci[1:13:2])"
   ],
   "metadata": {
    "collapsed": false,
    "ExecuteTime": {
     "end_time": "2024-03-02T14:17:42.965861Z",
     "start_time": "2024-03-02T14:17:42.963919Z"
    }
   },
   "id": "418a088cc7404622",
   "execution_count": 15
  },
  {
   "cell_type": "markdown",
   "source": [
    "In a sense it works as `[start:stop:step]`"
   ],
   "metadata": {
    "collapsed": false
   },
   "id": "8eeaa28b0ef72537"
  },
  {
   "cell_type": "markdown",
   "source": [
    "Slicing also works with tuples:"
   ],
   "metadata": {
    "collapsed": false
   },
   "id": "ed718c37ff2fdad4"
  },
  {
   "cell_type": "code",
   "outputs": [
    {
     "name": "stdout",
     "output_type": "stream",
     "text": [
      "(2019, 'February', 21)\n"
     ]
    }
   ],
   "source": [
    "today = (2019, \"February\", 21)\n",
    "print(today)"
   ],
   "metadata": {
    "collapsed": false,
    "ExecuteTime": {
     "end_time": "2024-03-02T14:17:44.345391Z",
     "start_time": "2024-03-02T14:17:44.331571Z"
    }
   },
   "id": "4d573d9024a16fe7",
   "execution_count": 16
  },
  {
   "cell_type": "code",
   "outputs": [
    {
     "name": "stdout",
     "output_type": "stream",
     "text": [
      "2019\n",
      "(2019,)\n",
      "(2019, 'February', 21)\n"
     ]
    }
   ],
   "source": [
    "print(today[0])\n",
    "print(today[0:1])\n",
    "print(today[0:3])"
   ],
   "metadata": {
    "collapsed": false,
    "ExecuteTime": {
     "end_time": "2024-03-02T14:17:44.879102Z",
     "start_time": "2024-03-02T14:17:44.877037Z"
    }
   },
   "id": "c9b4da39bb9a697b",
   "execution_count": 17
  },
  {
   "cell_type": "markdown",
   "source": [
    "### Generators"
   ],
   "metadata": {
    "collapsed": false
   },
   "id": "f4e608b96566065b"
  },
  {
   "cell_type": "code",
   "outputs": [
    {
     "name": "stdout",
     "output_type": "stream",
     "text": [
      "<class 'int'>\n"
     ]
    }
   ],
   "source": [
    "print(type(3))"
   ],
   "metadata": {
    "collapsed": false,
    "ExecuteTime": {
     "end_time": "2024-03-02T14:17:46.000587Z",
     "start_time": "2024-03-02T14:17:45.998498Z"
    }
   },
   "id": "b034841e1c1b5a25",
   "execution_count": 18
  },
  {
   "cell_type": "code",
   "outputs": [
    {
     "data": {
      "text/plain": "[0, 2, 4, 6, 8]"
     },
     "execution_count": 19,
     "metadata": {},
     "output_type": "execute_result"
    }
   ],
   "source": [
    "[2*i for i in range(5)]"
   ],
   "metadata": {
    "collapsed": false,
    "ExecuteTime": {
     "end_time": "2024-03-02T14:18:55.158294Z",
     "start_time": "2024-03-02T14:18:55.155541Z"
    }
   },
   "id": "727ddba33fda5a9",
   "execution_count": 19
  },
  {
   "cell_type": "code",
   "outputs": [
    {
     "data": {
      "text/plain": "<generator object <genexpr> at 0x117dc3780>"
     },
     "execution_count": 20,
     "metadata": {},
     "output_type": "execute_result"
    }
   ],
   "source": [
    "(2*i for i in range(5))"
   ],
   "metadata": {
    "collapsed": false,
    "ExecuteTime": {
     "end_time": "2024-03-02T14:19:11.682124Z",
     "start_time": "2024-03-02T14:19:11.679250Z"
    }
   },
   "id": "8ff004d75122fe09",
   "execution_count": 20
  },
  {
   "cell_type": "markdown",
   "source": [
    "If this happens you can generate the desired output by using `tuple()`"
   ],
   "metadata": {
    "collapsed": false
   },
   "id": "95357dbed40fb74"
  },
  {
   "cell_type": "code",
   "outputs": [
    {
     "data": {
      "text/plain": "(0, 2, 4, 6, 8)"
     },
     "execution_count": 23,
     "metadata": {},
     "output_type": "execute_result"
    }
   ],
   "source": [
    "tuple(2*i for i in range(5))"
   ],
   "metadata": {
    "collapsed": false,
    "ExecuteTime": {
     "end_time": "2024-03-02T14:20:30.870202Z",
     "start_time": "2024-03-02T14:20:30.867409Z"
    }
   },
   "id": "158314c5d08e3adb",
   "execution_count": 23
  },
  {
   "cell_type": "code",
   "outputs": [
    {
     "data": {
      "text/plain": "[0, 2, 4, 6, 8]"
     },
     "execution_count": 24,
     "metadata": {},
     "output_type": "execute_result"
    }
   ],
   "source": [
    "list(2*i for i in range(5))"
   ],
   "metadata": {
    "collapsed": false,
    "ExecuteTime": {
     "end_time": "2024-03-02T14:20:40.221717Z",
     "start_time": "2024-03-02T14:20:40.219011Z"
    }
   },
   "id": "29115a49f27a06c1",
   "execution_count": 24
  },
  {
   "cell_type": "code",
   "outputs": [
    {
     "data": {
      "text/plain": "range(0, 5)"
     },
     "execution_count": 25,
     "metadata": {},
     "output_type": "execute_result"
    }
   ],
   "source": [
    "range(5)"
   ],
   "metadata": {
    "collapsed": false,
    "ExecuteTime": {
     "end_time": "2024-03-02T14:21:29.931568Z",
     "start_time": "2024-03-02T14:21:29.929193Z"
    }
   },
   "id": "dcb94237cf4840ec",
   "execution_count": 25
  },
  {
   "cell_type": "code",
   "outputs": [
    {
     "data": {
      "text/plain": "[0, 1, 2, 3, 4]"
     },
     "execution_count": 26,
     "metadata": {},
     "output_type": "execute_result"
    }
   ],
   "source": [
    "list(range(5))"
   ],
   "metadata": {
    "collapsed": false,
    "ExecuteTime": {
     "end_time": "2024-03-02T14:21:38.203277Z",
     "start_time": "2024-03-02T14:21:38.200963Z"
    }
   },
   "id": "ab998d49c4bda3f",
   "execution_count": 26
  },
  {
   "cell_type": "code",
   "outputs": [
    {
     "data": {
      "text/plain": "(0, 1, 2, 3, 4)"
     },
     "execution_count": 27,
     "metadata": {},
     "output_type": "execute_result"
    }
   ],
   "source": [
    "tuple(range(5))"
   ],
   "metadata": {
    "collapsed": false,
    "ExecuteTime": {
     "end_time": "2024-03-02T14:21:43.309762Z",
     "start_time": "2024-03-02T14:21:43.305489Z"
    }
   },
   "id": "ac40f7264b9dbb23",
   "execution_count": 27
  },
  {
   "cell_type": "markdown",
   "source": [
    "### Lists and Plotting"
   ],
   "metadata": {
    "collapsed": false
   },
   "id": "37566cba21da3e7d"
  },
  {
   "cell_type": "code",
   "outputs": [],
   "source": [
    "import matplotlib.pyplot as plt\n",
    "import numpy as np"
   ],
   "metadata": {
    "collapsed": false,
    "ExecuteTime": {
     "end_time": "2024-03-02T14:24:24.459782Z",
     "start_time": "2024-03-02T14:24:24.457770Z"
    }
   },
   "id": "5a26fadf1c086df6",
   "execution_count": 28
  },
  {
   "cell_type": "code",
   "outputs": [],
   "source": [
    "import sympy as sp"
   ],
   "metadata": {
    "collapsed": false,
    "ExecuteTime": {
     "end_time": "2024-03-02T14:24:55.962317Z",
     "start_time": "2024-03-02T14:24:55.709301Z"
    }
   },
   "id": "77d67b3678c9fd7f",
   "execution_count": 29
  },
  {
   "cell_type": "code",
   "outputs": [
    {
     "data": {
      "text/plain": "4",
      "text/latex": "$\\displaystyle 4$"
     },
     "execution_count": 34,
     "metadata": {},
     "output_type": "execute_result"
    }
   ],
   "source": [
    "sp.totient(12)"
   ],
   "metadata": {
    "collapsed": false,
    "ExecuteTime": {
     "end_time": "2024-03-02T14:28:00.365067Z",
     "start_time": "2024-03-02T14:28:00.362484Z"
    }
   },
   "id": "d3ed61635025c3e2",
   "execution_count": 34
  },
  {
   "cell_type": "code",
   "outputs": [
    {
     "name": "stdout",
     "output_type": "stream",
     "text": [
      "[1, 1, 2, 2, 4, 2, 6, 4, 6, 4, 10, 4, 12, 6, 8, 8, 16, 6, 18, 8, 12, 10, 22, 8, 20, 12, 18, 12, 28, 8, 30, 16, 20, 16, 24, 12, 36, 18, 24, 16, 40, 12, 42, 20, 24, 22, 46, 16, 42, 20, 32, 24, 52, 18, 40, 24, 36, 28, 58, 16, 60, 30, 36, 32, 48, 20, 66, 32, 44, 24, 70, 24, 72, 36, 40, 36, 60, 24, 78, 32, 54, 40, 82, 24, 64, 42, 56, 40, 88, 24, 72, 44, 60, 46, 72, 32, 96, 42, 60, 40]\n"
     ]
    }
   ],
   "source": [
    "print([sp.totient(n) for n in range(1, 101)])"
   ],
   "metadata": {
    "collapsed": false,
    "ExecuteTime": {
     "end_time": "2024-03-02T14:27:19.078822Z",
     "start_time": "2024-03-02T14:27:19.075885Z"
    }
   },
   "id": "52bbddf74cfa719",
   "execution_count": 32
  },
  {
   "cell_type": "code",
   "outputs": [
    {
     "data": {
      "text/plain": "<Figure size 640x480 with 1 Axes>",
      "image/png": "[encoded data removed]"
     },
     "metadata": {},
     "output_type": "display_data"
    }
   ],
   "source": [
    "x = list(range(1, 1001))\n",
    "y = [sp.totient(n) for n in x]\n",
    "plt.plot(x, y, \"ro\", markersize = 1)\n",
    "plt.show()"
   ],
   "metadata": {
    "collapsed": false,
    "ExecuteTime": {
     "end_time": "2024-03-02T14:29:22.583257Z",
     "start_time": "2024-03-02T14:29:22.485712Z"
    }
   },
   "id": "fd0ceeb9cf0c3d5f",
   "execution_count": 35
  },
  {
   "cell_type": "code",
   "outputs": [],
   "source": [],
   "metadata": {
    "collapsed": false
   },
   "id": "d934b0035cc10ad5"
  }
 ],
 "metadata": {
  "kernelspec": {
   "display_name": "Python 3",
   "language": "python",
   "name": "python3"
  },
  "language_info": {
   "codemirror_mode": {
    "name": "ipython",
    "version": 2
   },
   "file_extension": ".py",
   "mimetype": "text/x-python",
   "name": "python",
   "nbconvert_exporter": "python",
   "pygments_lexer": "ipython2",
   "version": "2.7.6"
  }
 },
 "nbformat": 4,
 "nbformat_minor": 5
}
