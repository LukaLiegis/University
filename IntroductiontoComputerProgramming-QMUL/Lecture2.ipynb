{
 "cells": [
  {
   "cell_type": "markdown",
   "source": [
    "### Outline of a Script"
   ],
   "metadata": {
    "collapsed": false
   },
   "id": "8e0bcdd3a0531912"
  },
  {
   "cell_type": "code",
   "execution_count": 1,
   "id": "initial_id",
   "metadata": {
    "collapsed": true,
    "ExecuteTime": {
     "end_time": "2024-02-05T13:03:56.423598Z",
     "start_time": "2024-02-05T13:03:56.417751Z"
    }
   },
   "outputs": [
    {
     "name": "stdout",
     "output_type": "stream",
     "text": [
      "1\n",
      "1\n",
      "2\n",
      "3\n",
      "5\n",
      "8\n",
      "13\n"
     ]
    }
   ],
   "source": [
    "n = 7\n",
    "a = 0\n",
    "b = 1\n",
    "\n",
    "for i in range(n):\n",
    "    c = a + b\n",
    "    b = a\n",
    "    a = c\n",
    "    print(c)"
   ]
  },
  {
   "cell_type": "markdown",
   "source": [
    "This prints out the first 7 fibonacci numbers"
   ],
   "metadata": {
    "collapsed": false
   },
   "id": "6e13b7baf99f5437"
  },
  {
   "cell_type": "markdown",
   "source": [
    "### Variables"
   ],
   "metadata": {
    "collapsed": false
   },
   "id": "e87a78f03bd15b8f"
  },
  {
   "cell_type": "code",
   "execution_count": 2,
   "outputs": [],
   "source": [
    "# This assigns the number 7 to the variable n\n",
    "n = 7"
   ],
   "metadata": {
    "collapsed": false,
    "ExecuteTime": {
     "end_time": "2024-02-05T13:27:58.222773Z",
     "start_time": "2024-02-05T13:27:58.211583Z"
    }
   },
   "id": "9e668f4645887be1"
  },
  {
   "cell_type": "code",
   "execution_count": 3,
   "outputs": [
    {
     "data": {
      "text/plain": "7"
     },
     "execution_count": 3,
     "metadata": {},
     "output_type": "execute_result"
    }
   ],
   "source": [
    "# Now we can call the variable n\n",
    "n"
   ],
   "metadata": {
    "collapsed": false,
    "ExecuteTime": {
     "end_time": "2024-02-05T13:28:07.821835Z",
     "start_time": "2024-02-05T13:28:07.801186Z"
    }
   },
   "id": "ddb2f8c5fb431ad7"
  },
  {
   "cell_type": "code",
   "execution_count": 4,
   "outputs": [
    {
     "data": {
      "text/plain": "61"
     },
     "execution_count": 4,
     "metadata": {},
     "output_type": "execute_result"
    }
   ],
   "source": [
    "n ** 2 + 12"
   ],
   "metadata": {
    "collapsed": false,
    "ExecuteTime": {
     "end_time": "2024-02-05T13:28:25.685997Z",
     "start_time": "2024-02-05T13:28:25.678683Z"
    }
   },
   "id": "c6e83765a8a06a0a"
  },
  {
   "cell_type": "code",
   "execution_count": 5,
   "outputs": [
    {
     "data": {
      "text/plain": "0.875"
     },
     "execution_count": 5,
     "metadata": {},
     "output_type": "execute_result"
    }
   ],
   "source": [
    "n/(1+n)"
   ],
   "metadata": {
    "collapsed": false,
    "ExecuteTime": {
     "end_time": "2024-02-05T13:28:34.499244Z",
     "start_time": "2024-02-05T13:28:34.489869Z"
    }
   },
   "id": "e4081cb01a4b7c90"
  },
  {
   "cell_type": "code",
   "execution_count": 6,
   "outputs": [],
   "source": [
    "# define a new variable m\n",
    "m = 3"
   ],
   "metadata": {
    "collapsed": false,
    "ExecuteTime": {
     "end_time": "2024-02-05T13:29:06.858180Z",
     "start_time": "2024-02-05T13:29:06.851328Z"
    }
   },
   "id": "5fda06c13300c2d9"
  },
  {
   "cell_type": "code",
   "execution_count": 7,
   "outputs": [
    {
     "data": {
      "text/plain": "37"
     },
     "execution_count": 7,
     "metadata": {},
     "output_type": "execute_result"
    }
   ],
   "source": [
    "7 * n - 4 * m"
   ],
   "metadata": {
    "collapsed": false,
    "ExecuteTime": {
     "end_time": "2024-02-05T13:29:20.328719Z",
     "start_time": "2024-02-05T13:29:20.319494Z"
    }
   },
   "id": "846c3d76bdc13fcf"
  },
  {
   "cell_type": "markdown",
   "source": [
    "It is also possible to redefine a variable that has already been used."
   ],
   "metadata": {
    "collapsed": false
   },
   "id": "a7b64812835d6b83"
  },
  {
   "cell_type": "code",
   "execution_count": 9,
   "outputs": [],
   "source": [
    "# redefine n to be 8\n",
    "n = 8"
   ],
   "metadata": {
    "collapsed": false,
    "ExecuteTime": {
     "end_time": "2024-02-05T13:30:12.050756Z",
     "start_time": "2024-02-05T13:30:12.044409Z"
    }
   },
   "id": "9b5fb48ed4f27269"
  },
  {
   "cell_type": "code",
   "execution_count": 10,
   "outputs": [
    {
     "data": {
      "text/plain": "8"
     },
     "execution_count": 10,
     "metadata": {},
     "output_type": "execute_result"
    }
   ],
   "source": [
    "# call the new value of n\n",
    "n"
   ],
   "metadata": {
    "collapsed": false,
    "ExecuteTime": {
     "end_time": "2024-02-05T13:30:24.137161Z",
     "start_time": "2024-02-05T13:30:24.126456Z"
    }
   },
   "id": "7bb7791cde3bcdd4"
  },
  {
   "cell_type": "code",
   "execution_count": 12,
   "outputs": [
    {
     "data": {
      "text/plain": "'hello world'"
     },
     "execution_count": 12,
     "metadata": {},
     "output_type": "execute_result"
    }
   ],
   "source": [
    "# redefine n to be a text string\n",
    "n = \"hello world\"\n",
    "\n",
    "# call the new value of n\n",
    "n"
   ],
   "metadata": {
    "collapsed": false,
    "ExecuteTime": {
     "end_time": "2024-02-05T13:33:21.095323Z",
     "start_time": "2024-02-05T13:33:21.085815Z"
    }
   },
   "id": "ca8859222c0566b6"
  },
  {
   "cell_type": "markdown",
   "source": [
    "### Functions"
   ],
   "metadata": {
    "collapsed": false
   },
   "id": "a1428a7f3c6a7717"
  },
  {
   "cell_type": "code",
   "execution_count": 13,
   "outputs": [
    {
     "name": "stdout",
     "output_type": "stream",
     "text": [
      "17.32\n"
     ]
    }
   ],
   "source": [
    "print(17.32)"
   ],
   "metadata": {
    "collapsed": false,
    "ExecuteTime": {
     "end_time": "2024-02-05T13:35:54.261100Z",
     "start_time": "2024-02-05T13:35:54.251519Z"
    }
   },
   "id": "9f4af1676358f7b"
  },
  {
   "cell_type": "code",
   "execution_count": 14,
   "outputs": [
    {
     "name": "stdout",
     "output_type": "stream",
     "text": [
      "hello world\n"
     ]
    }
   ],
   "source": [
    "print(n)"
   ],
   "metadata": {
    "collapsed": false,
    "ExecuteTime": {
     "end_time": "2024-02-05T13:36:08.459346Z",
     "start_time": "2024-02-05T13:36:08.446576Z"
    }
   },
   "id": "76967bae7a24f302"
  },
  {
   "cell_type": "code",
   "execution_count": 15,
   "outputs": [],
   "source": [
    "# redefine n as 7\n",
    "n = 7"
   ],
   "metadata": {
    "collapsed": false,
    "ExecuteTime": {
     "end_time": "2024-02-05T13:39:31.452710Z",
     "start_time": "2024-02-05T13:39:31.443432Z"
    }
   },
   "id": "5764eb743e4d5f13"
  },
  {
   "cell_type": "code",
   "execution_count": 16,
   "outputs": [
    {
     "name": "stdout",
     "output_type": "stream",
     "text": [
      "7 3 hello world\n"
     ]
    }
   ],
   "source": [
    "print(n, m, \"hello world\")"
   ],
   "metadata": {
    "collapsed": false,
    "ExecuteTime": {
     "end_time": "2024-02-05T13:39:41.890310Z",
     "start_time": "2024-02-05T13:39:41.879409Z"
    }
   },
   "id": "2e5f4ea1b5a3a3b6"
  },
  {
   "cell_type": "code",
   "execution_count": 17,
   "outputs": [
    {
     "name": "stdout",
     "output_type": "stream",
     "text": [
      "hello world how are you\n"
     ]
    }
   ],
   "source": [
    "print(\"hello world\", \"how are you\")"
   ],
   "metadata": {
    "collapsed": false,
    "ExecuteTime": {
     "end_time": "2024-02-05T13:40:08.350101Z",
     "start_time": "2024-02-05T13:40:08.341059Z"
    }
   },
   "id": "d4a671f02e8911fa"
  },
  {
   "cell_type": "code",
   "execution_count": 18,
   "outputs": [
    {
     "name": "stdout",
     "output_type": "stream",
     "text": [
      "spam 7\n"
     ]
    }
   ],
   "source": [
    "print(\"spam\", n)"
   ],
   "metadata": {
    "collapsed": false,
    "ExecuteTime": {
     "end_time": "2024-02-05T13:40:18.225084Z",
     "start_time": "2024-02-05T13:40:18.203675Z"
    }
   },
   "id": "3351d7500b524a9c"
  },
  {
   "cell_type": "code",
   "execution_count": 19,
   "outputs": [
    {
     "name": "stdout",
     "output_type": "stream",
     "text": [
      "The distance from Edinburgh to London is 332 miles.\n",
      "There are 1.609344 kilometers in a mile.\n",
      "So the distance from Edinburgh to London is 534.3022080000001 kilometers.\n"
     ]
    }
   ],
   "source": [
    "distance_miles = 332\n",
    "print(\"The distance from Edinburgh to London is\", distance_miles, \"miles.\")\n",
    "km_per_mile = 1.609344\n",
    "print(\"There are\", km_per_mile, \"kilometers in a mile.\")\n",
    "distance_km = distance_miles * km_per_mile\n",
    "print(\"So the distance from Edinburgh to London is\", distance_km, \"kilometers.\")"
   ],
   "metadata": {
    "collapsed": false,
    "ExecuteTime": {
     "end_time": "2024-02-05T13:43:33.069794Z",
     "start_time": "2024-02-05T13:43:33.062326Z"
    }
   },
   "id": "c2fe45f75f8b50d8"
  },
  {
   "cell_type": "markdown",
   "source": [
    "The `type` function will give the type of a variable."
   ],
   "metadata": {
    "collapsed": false
   },
   "id": "1055cd0698671ada"
  },
  {
   "cell_type": "code",
   "execution_count": 20,
   "outputs": [
    {
     "data": {
      "text/plain": "int"
     },
     "execution_count": 20,
     "metadata": {},
     "output_type": "execute_result"
    }
   ],
   "source": [
    "type(5)"
   ],
   "metadata": {
    "collapsed": false,
    "ExecuteTime": {
     "end_time": "2024-02-05T13:45:36.888690Z",
     "start_time": "2024-02-05T13:45:36.878549Z"
    }
   },
   "id": "6fc2ad9f8e1c7c05"
  },
  {
   "cell_type": "code",
   "execution_count": 21,
   "outputs": [
    {
     "data": {
      "text/plain": "float"
     },
     "execution_count": 21,
     "metadata": {},
     "output_type": "execute_result"
    }
   ],
   "source": [
    "type(-2.7)"
   ],
   "metadata": {
    "collapsed": false,
    "ExecuteTime": {
     "end_time": "2024-02-05T13:45:44.018108Z",
     "start_time": "2024-02-05T13:45:43.991649Z"
    }
   },
   "id": "653bf7857804c78"
  },
  {
   "cell_type": "code",
   "execution_count": 22,
   "outputs": [
    {
     "data": {
      "text/plain": "str"
     },
     "execution_count": 22,
     "metadata": {},
     "output_type": "execute_result"
    }
   ],
   "source": [
    "type(\"hello world\")"
   ],
   "metadata": {
    "collapsed": false,
    "ExecuteTime": {
     "end_time": "2024-02-05T13:45:50.082648Z",
     "start_time": "2024-02-05T13:45:50.072747Z"
    }
   },
   "id": "1ac202dd51dc2e0d"
  },
  {
   "cell_type": "code",
   "execution_count": 23,
   "outputs": [
    {
     "data": {
      "text/plain": "float"
     },
     "execution_count": 23,
     "metadata": {},
     "output_type": "execute_result"
    }
   ],
   "source": [
    "type(4.0)"
   ],
   "metadata": {
    "collapsed": false,
    "ExecuteTime": {
     "end_time": "2024-02-05T13:46:08.217783Z",
     "start_time": "2024-02-05T13:46:08.201026Z"
    }
   },
   "id": "10074b87b671b732"
  },
  {
   "cell_type": "markdown",
   "source": [
    "### Modules"
   ],
   "metadata": {
    "collapsed": false
   },
   "id": "83bb49dbc27f4d7b"
  },
  {
   "cell_type": "code",
   "execution_count": 24,
   "outputs": [
    {
     "data": {
      "text/plain": "3.141592653589793"
     },
     "execution_count": 24,
     "metadata": {},
     "output_type": "execute_result"
    }
   ],
   "source": [
    "import math\n",
    "math.pi"
   ],
   "metadata": {
    "collapsed": false,
    "ExecuteTime": {
     "end_time": "2024-02-05T13:48:31.158540Z",
     "start_time": "2024-02-05T13:48:31.147120Z"
    }
   },
   "id": "99fcd4f911426458"
  },
  {
   "cell_type": "code",
   "execution_count": 25,
   "outputs": [
    {
     "data": {
      "text/plain": "-1.0"
     },
     "execution_count": 25,
     "metadata": {},
     "output_type": "execute_result"
    }
   ],
   "source": [
    "math.cos(math.pi)"
   ],
   "metadata": {
    "collapsed": false,
    "ExecuteTime": {
     "end_time": "2024-02-05T13:49:35.580852Z",
     "start_time": "2024-02-05T13:49:35.567808Z"
    }
   },
   "id": "e7241f1be417f8e0"
  },
  {
   "cell_type": "markdown",
   "source": [
    "### Integers\n",
    "If you want to do integer division without remainders you have to use `//`"
   ],
   "metadata": {
    "collapsed": false
   },
   "id": "3b834cb25d7ee4f2"
  },
  {
   "cell_type": "code",
   "execution_count": 2,
   "outputs": [
    {
     "data": {
      "text/plain": "1"
     },
     "execution_count": 2,
     "metadata": {},
     "output_type": "execute_result"
    }
   ],
   "source": [
    "# 8 = 1 * 5 + 3\n",
    "8//5"
   ],
   "metadata": {
    "collapsed": false,
    "ExecuteTime": {
     "end_time": "2024-02-07T12:36:33.474766Z",
     "start_time": "2024-02-07T12:36:33.470536Z"
    }
   },
   "id": "54fc93ae61e3041c"
  },
  {
   "cell_type": "code",
   "execution_count": 4,
   "outputs": [
    {
     "data": {
      "text/plain": "-2"
     },
     "execution_count": 4,
     "metadata": {},
     "output_type": "execute_result"
    }
   ],
   "source": [
    "# -8 = -2 * 5 + 2\n",
    "-8 // 5"
   ],
   "metadata": {
    "collapsed": false,
    "ExecuteTime": {
     "end_time": "2024-02-07T12:36:58.463105Z",
     "start_time": "2024-02-07T12:36:58.456228Z"
    }
   },
   "id": "992f54ed35c60e2f"
  },
  {
   "cell_type": "markdown",
   "source": [
    "The corresponding remainder can be calculated using `%`"
   ],
   "metadata": {
    "collapsed": false
   },
   "id": "a491228f402203b9"
  },
  {
   "cell_type": "code",
   "execution_count": 5,
   "outputs": [
    {
     "data": {
      "text/plain": "0"
     },
     "execution_count": 5,
     "metadata": {},
     "output_type": "execute_result"
    }
   ],
   "source": [
    "8 % 4"
   ],
   "metadata": {
    "collapsed": false,
    "ExecuteTime": {
     "end_time": "2024-02-07T12:37:26.843706Z",
     "start_time": "2024-02-07T12:37:26.832955Z"
    }
   },
   "id": "f375eab6272c1c3e"
  },
  {
   "cell_type": "code",
   "execution_count": 6,
   "outputs": [
    {
     "data": {
      "text/plain": "3"
     },
     "execution_count": 6,
     "metadata": {},
     "output_type": "execute_result"
    }
   ],
   "source": [
    "8 % 5"
   ],
   "metadata": {
    "collapsed": false,
    "ExecuteTime": {
     "end_time": "2024-02-07T12:37:32.739853Z",
     "start_time": "2024-02-07T12:37:32.729890Z"
    }
   },
   "id": "41b23a0fc82f1885"
  },
  {
   "cell_type": "code",
   "execution_count": 7,
   "outputs": [
    {
     "data": {
      "text/plain": "2"
     },
     "execution_count": 7,
     "metadata": {},
     "output_type": "execute_result"
    }
   ],
   "source": [
    "-8 % 5"
   ],
   "metadata": {
    "collapsed": false,
    "ExecuteTime": {
     "end_time": "2024-02-07T12:37:52.537524Z",
     "start_time": "2024-02-07T12:37:52.517305Z"
    }
   },
   "id": "7060a96f75771317"
  },
  {
   "cell_type": "markdown",
   "source": [
    "### Floating Point Numbers"
   ],
   "metadata": {
    "collapsed": false
   },
   "id": "aa08824ad6c63362"
  },
  {
   "cell_type": "code",
   "execution_count": 8,
   "outputs": [
    {
     "data": {
      "text/plain": "1.4142135623730951"
     },
     "execution_count": 8,
     "metadata": {},
     "output_type": "execute_result"
    }
   ],
   "source": [
    "# Square root of two\n",
    "2.0 ** 0.5"
   ],
   "metadata": {
    "collapsed": false,
    "ExecuteTime": {
     "end_time": "2024-02-07T12:38:27.652964Z",
     "start_time": "2024-02-07T12:38:27.642839Z"
    }
   },
   "id": "87dd64308fb5fc50"
  },
  {
   "cell_type": "code",
   "execution_count": 9,
   "outputs": [
    {
     "data": {
      "text/plain": "int"
     },
     "execution_count": 9,
     "metadata": {},
     "output_type": "execute_result"
    }
   ],
   "source": [
    "type(3)"
   ],
   "metadata": {
    "collapsed": false,
    "ExecuteTime": {
     "end_time": "2024-02-07T12:43:03.502880Z",
     "start_time": "2024-02-07T12:43:03.492741Z"
    }
   },
   "id": "bbd851f0ca55d1ae"
  },
  {
   "cell_type": "code",
   "execution_count": 10,
   "outputs": [
    {
     "data": {
      "text/plain": "float"
     },
     "execution_count": 10,
     "metadata": {},
     "output_type": "execute_result"
    }
   ],
   "source": [
    "type(3.0)"
   ],
   "metadata": {
    "collapsed": false,
    "ExecuteTime": {
     "end_time": "2024-02-07T12:43:09.992222Z",
     "start_time": "2024-02-07T12:43:09.979399Z"
    }
   },
   "id": "237084601229f028"
  },
  {
   "cell_type": "markdown",
   "source": [
    "Python understands scientific notation."
   ],
   "metadata": {
    "collapsed": false
   },
   "id": "1aa947a8eb58c183"
  },
  {
   "cell_type": "code",
   "execution_count": 11,
   "outputs": [
    {
     "data": {
      "text/plain": "0.0001"
     },
     "execution_count": 11,
     "metadata": {},
     "output_type": "execute_result"
    }
   ],
   "source": [
    "1.0e-4"
   ],
   "metadata": {
    "collapsed": false,
    "ExecuteTime": {
     "end_time": "2024-02-07T12:43:30.918621Z",
     "start_time": "2024-02-07T12:43:30.903898Z"
    }
   },
   "id": "82ee4489aa492f7d"
  },
  {
   "cell_type": "code",
   "execution_count": 12,
   "outputs": [
    {
     "data": {
      "text/plain": "12300.0"
     },
     "execution_count": 12,
     "metadata": {},
     "output_type": "execute_result"
    }
   ],
   "source": [
    "1.23e4"
   ],
   "metadata": {
    "collapsed": false,
    "ExecuteTime": {
     "end_time": "2024-02-07T12:43:59.078459Z",
     "start_time": "2024-02-07T12:43:59.067463Z"
    }
   },
   "id": "32e19c9a7845b380"
  },
  {
   "cell_type": "markdown",
   "source": [
    "### Complex Numbers"
   ],
   "metadata": {
    "collapsed": false
   },
   "id": "7de569db1359912d"
  },
  {
   "cell_type": "code",
   "execution_count": 13,
   "outputs": [
    {
     "data": {
      "text/plain": "(3+2j)"
     },
     "execution_count": 13,
     "metadata": {},
     "output_type": "execute_result"
    }
   ],
   "source": [
    "complex(3,2)"
   ],
   "metadata": {
    "collapsed": false,
    "ExecuteTime": {
     "end_time": "2024-02-07T12:47:22.942108Z",
     "start_time": "2024-02-07T12:47:22.921706Z"
    }
   },
   "id": "d0b8b0cf56132057"
  },
  {
   "cell_type": "code",
   "execution_count": 14,
   "outputs": [
    {
     "data": {
      "text/plain": "(-1+3j)"
     },
     "execution_count": 14,
     "metadata": {},
     "output_type": "execute_result"
    }
   ],
   "source": [
    "(1+2j) * (1+1j)"
   ],
   "metadata": {
    "collapsed": false,
    "ExecuteTime": {
     "end_time": "2024-02-07T12:47:54.466321Z",
     "start_time": "2024-02-07T12:47:54.439227Z"
    }
   },
   "id": "c68a7a424f7a4117"
  },
  {
   "cell_type": "markdown",
   "source": [
    "Have to write `1+1j` as `1+j` will not work."
   ],
   "metadata": {
    "collapsed": false
   },
   "id": "ad47934cef579925"
  },
  {
   "cell_type": "code",
   "execution_count": 15,
   "outputs": [
    {
     "data": {
      "text/plain": "complex"
     },
     "execution_count": 15,
     "metadata": {},
     "output_type": "execute_result"
    }
   ],
   "source": [
    "type(5+0j)"
   ],
   "metadata": {
    "collapsed": false,
    "ExecuteTime": {
     "end_time": "2024-02-07T12:48:36.150795Z",
     "start_time": "2024-02-07T12:48:36.124673Z"
    }
   },
   "id": "70c27b2aed541654"
  },
  {
   "cell_type": "code",
   "execution_count": null,
   "outputs": [],
   "source": [],
   "metadata": {
    "collapsed": false
   },
   "id": "a41bf2829af9b26"
  }
 ],
 "metadata": {
  "kernelspec": {
   "display_name": "Python 3",
   "language": "python",
   "name": "python3"
  },
  "language_info": {
   "codemirror_mode": {
    "name": "ipython",
    "version": 2
   },
   "file_extension": ".py",
   "mimetype": "text/x-python",
   "name": "python",
   "nbconvert_exporter": "python",
   "pygments_lexer": "ipython2",
   "version": "2.7.6"
  }
 },
 "nbformat": 4,
 "nbformat_minor": 5
}
