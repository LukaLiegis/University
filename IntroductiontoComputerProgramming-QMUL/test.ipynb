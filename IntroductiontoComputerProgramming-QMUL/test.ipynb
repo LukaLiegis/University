{
 "cells": [
  {
   "cell_type": "code",
   "execution_count": 1,
   "id": "initial_id",
   "metadata": {
    "collapsed": true,
    "ExecuteTime": {
     "end_time": "2024-02-10T20:22:28.853130Z",
     "start_time": "2024-02-10T20:22:28.850410Z"
    }
   },
   "outputs": [],
   "source": [
    "setup = \"Who is a python's favourite author?\"\n",
    "\n",
    "punchline1 = \"William Shakespeare\"\n",
    "punchline2 = \"Stephen King Cobra\""
   ]
  },
  {
   "cell_type": "code",
   "outputs": [
    {
     "name": "stdout",
     "output_type": "stream",
     "text": [
      "Who is a python's favourite author?\n",
      "Stephen King Cobra\n"
     ]
    }
   ],
   "source": [
    "print(setup)\n",
    "punchline1\n",
    "print(punchline2)"
   ],
   "metadata": {
    "collapsed": false,
    "ExecuteTime": {
     "end_time": "2024-02-10T20:22:48.726324Z",
     "start_time": "2024-02-10T20:22:48.721641Z"
    }
   },
   "id": "79c53b424109c0c0",
   "execution_count": 2
  },
  {
   "cell_type": "code",
   "outputs": [
    {
     "name": "stdout",
     "output_type": "stream",
     "text": [
      "Who is a python's favourite author?\n"
     ]
    }
   ],
   "source": [
    "print(setup)"
   ],
   "metadata": {
    "collapsed": false,
    "ExecuteTime": {
     "end_time": "2024-02-10T20:23:38.525780Z",
     "start_time": "2024-02-10T20:23:38.520155Z"
    }
   },
   "id": "fa85a7e86f3d19e9",
   "execution_count": 3
  },
  {
   "cell_type": "code",
   "outputs": [],
   "source": [
    "functions = [print, float, type, max]"
   ],
   "metadata": {
    "collapsed": false,
    "ExecuteTime": {
     "end_time": "2024-02-10T20:25:09.747373Z",
     "start_time": "2024-02-10T20:25:09.739899Z"
    }
   },
   "id": "225bc5c9baffd6d8",
   "execution_count": 4
  },
  {
   "cell_type": "code",
   "outputs": [
    {
     "name": "stdout",
     "output_type": "stream",
     "text": [
      "hello\n"
     ]
    }
   ],
   "source": [
    "functions[0]('hello')"
   ],
   "metadata": {
    "collapsed": false,
    "ExecuteTime": {
     "end_time": "2024-02-10T20:26:50.154008Z",
     "start_time": "2024-02-10T20:26:50.149230Z"
    }
   },
   "id": "75491a8575d6d708",
   "execution_count": 11
  },
  {
   "cell_type": "code",
   "outputs": [],
   "source": [],
   "metadata": {
    "collapsed": false
   },
   "id": "7b624ff7542393cf"
  }
 ],
 "metadata": {
  "kernelspec": {
   "display_name": "Python 3",
   "language": "python",
   "name": "python3"
  },
  "language_info": {
   "codemirror_mode": {
    "name": "ipython",
    "version": 2
   },
   "file_extension": ".py",
   "mimetype": "text/x-python",
   "name": "python",
   "nbconvert_exporter": "python",
   "pygments_lexer": "ipython2",
   "version": "2.7.6"
  }
 },
 "nbformat": 4,
 "nbformat_minor": 5
}
