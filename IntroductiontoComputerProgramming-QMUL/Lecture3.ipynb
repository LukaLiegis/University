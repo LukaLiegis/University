{
 "cells": [
  {
   "cell_type": "markdown",
   "source": [
    "### Modules and Packages"
   ],
   "metadata": {
    "collapsed": false
   },
   "id": "b148e8192171d38a"
  },
  {
   "cell_type": "code",
   "execution_count": 1,
   "id": "initial_id",
   "metadata": {
    "collapsed": true,
    "ExecuteTime": {
     "end_time": "2024-02-10T19:33:04.386734Z",
     "start_time": "2024-02-10T19:33:04.136820Z"
    }
   },
   "outputs": [
    {
     "data": {
      "text/plain": "1.0"
     },
     "execution_count": 1,
     "metadata": {},
     "output_type": "execute_result"
    }
   ],
   "source": [
    "import math\n",
    "\n",
    "math.cos(0.0)"
   ]
  },
  {
   "cell_type": "code",
   "execution_count": 2,
   "outputs": [],
   "source": [
    "import numpy\n",
    "import matplotlib.pyplot as plt"
   ],
   "metadata": {
    "collapsed": false,
    "ExecuteTime": {
     "end_time": "2024-02-10T19:33:04.681793Z",
     "start_time": "2024-02-10T19:33:04.145440Z"
    }
   },
   "id": "3b96da6a6a3280e6"
  },
  {
   "cell_type": "code",
   "execution_count": 3,
   "outputs": [
    {
     "data": {
      "text/plain": "<Figure size 640x480 with 1 Axes>",
      "image/png": "[encoded data removed]"
     },
     "metadata": {},
     "output_type": "display_data"
    }
   ],
   "source": [
    "plt.plot([-2, -1, 0, 1, 2], [4, 1, 0, 1, 4])\n",
    "plt.show()"
   ],
   "metadata": {
    "collapsed": false,
    "ExecuteTime": {
     "end_time": "2024-02-10T19:33:04.815867Z",
     "start_time": "2024-02-10T19:33:04.458210Z"
    }
   },
   "id": "321d12db5f872965"
  },
  {
   "cell_type": "code",
   "execution_count": 4,
   "outputs": [
    {
     "data": {
      "text/plain": "3.141592653589793"
     },
     "execution_count": 4,
     "metadata": {},
     "output_type": "execute_result"
    }
   ],
   "source": [
    "from math import pi\n",
    "pi"
   ],
   "metadata": {
    "collapsed": false,
    "ExecuteTime": {
     "end_time": "2024-02-10T19:33:04.920560Z",
     "start_time": "2024-02-10T19:33:04.785856Z"
    }
   },
   "id": "a30706b675d0fc39"
  },
  {
   "cell_type": "code",
   "execution_count": 5,
   "outputs": [
    {
     "data": {
      "text/plain": "3.141592653589793"
     },
     "execution_count": 5,
     "metadata": {},
     "output_type": "execute_result"
    }
   ],
   "source": [
    "from math import pi as sqrt2\n",
    "# Unacceptable but technically doable\n",
    "\n",
    "sqrt2"
   ],
   "metadata": {
    "collapsed": false,
    "ExecuteTime": {
     "end_time": "2024-02-10T19:33:05.004336Z",
     "start_time": "2024-02-10T19:33:04.818639Z"
    }
   },
   "id": "44b311b5f6dd9806"
  },
  {
   "cell_type": "code",
   "execution_count": 6,
   "outputs": [
    {
     "name": "stdout",
     "output_type": "stream",
     "text": [
      "[ 1.000000e+00  6.123234e-17 -1.000000e+00]\n"
     ]
    }
   ],
   "source": [
    "import numpy as np\n",
    "print(np.cos([0, pi/2, pi]))"
   ],
   "metadata": {
    "collapsed": false,
    "ExecuteTime": {
     "end_time": "2024-02-10T19:33:05.134908Z",
     "start_time": "2024-02-10T19:33:04.829364Z"
    }
   },
   "id": "5088d908eb375419"
  },
  {
   "cell_type": "markdown",
   "source": [
    "### Input/Output"
   ],
   "metadata": {
    "collapsed": false
   },
   "id": "fa25d3ff97955f73"
  },
  {
   "cell_type": "code",
   "execution_count": 7,
   "outputs": [
    {
     "data": {
      "text/plain": "6.283185307179586"
     },
     "execution_count": 7,
     "metadata": {},
     "output_type": "execute_result"
    }
   ],
   "source": [
    "pi \n",
    "2 * pi"
   ],
   "metadata": {
    "collapsed": false,
    "ExecuteTime": {
     "end_time": "2024-02-10T19:33:05.161952Z",
     "start_time": "2024-02-10T19:33:04.833199Z"
    }
   },
   "id": "477af495efb58f9d"
  },
  {
   "cell_type": "code",
   "execution_count": 8,
   "outputs": [
    {
     "name": "stdout",
     "output_type": "stream",
     "text": [
      "3.141592653589793\n"
     ]
    },
    {
     "data": {
      "text/plain": "6.283185307179586"
     },
     "execution_count": 8,
     "metadata": {},
     "output_type": "execute_result"
    }
   ],
   "source": [
    "print(pi)\n",
    "2 * pi"
   ],
   "metadata": {
    "collapsed": false,
    "ExecuteTime": {
     "end_time": "2024-02-10T19:33:05.232259Z",
     "start_time": "2024-02-10T19:33:04.842158Z"
    }
   },
   "id": "f1d58fd9c4c98afa"
  },
  {
   "cell_type": "code",
   "execution_count": 9,
   "outputs": [
    {
     "name": "stdout",
     "output_type": "stream",
     "text": [
      "6.283185307179586\n"
     ]
    }
   ],
   "source": [
    "pi\n",
    "print(2 * pi)"
   ],
   "metadata": {
    "collapsed": false,
    "ExecuteTime": {
     "end_time": "2024-02-10T19:33:05.244967Z",
     "start_time": "2024-02-10T19:33:04.853027Z"
    }
   },
   "id": "3e2ca5d197ca2327"
  },
  {
   "cell_type": "code",
   "execution_count": 10,
   "outputs": [
    {
     "name": "stdout",
     "output_type": "stream",
     "text": [
      "3.141592653589793\n",
      "6.283185307179586\n"
     ]
    }
   ],
   "source": [
    "print(pi)\n",
    "print(2 * pi)"
   ],
   "metadata": {
    "collapsed": false,
    "ExecuteTime": {
     "end_time": "2024-02-10T19:33:05.255443Z",
     "start_time": "2024-02-10T19:33:04.854962Z"
    }
   },
   "id": "2547df6220bdfe8"
  },
  {
   "cell_type": "markdown",
   "source": [
    "### The input Function"
   ],
   "metadata": {
    "collapsed": false
   },
   "id": "2c6e36ff78752500"
  },
  {
   "cell_type": "code",
   "execution_count": 11,
   "outputs": [
    {
     "name": "stdout",
     "output_type": "stream",
     "text": [
      "15\n"
     ]
    }
   ],
   "source": [
    "a = 10\n",
    "b = 5\n",
    "print(a + b)"
   ],
   "metadata": {
    "collapsed": false,
    "ExecuteTime": {
     "end_time": "2024-02-10T19:33:05.258528Z",
     "start_time": "2024-02-10T19:33:04.857543Z"
    }
   },
   "id": "ea377ba911a6ab0b"
  },
  {
   "cell_type": "code",
   "execution_count": 12,
   "outputs": [
    {
     "name": "stdout",
     "output_type": "stream",
     "text": [
      "\n",
      "The user has said:  Good\n"
     ]
    }
   ],
   "source": [
    "txt = input(\"How are you today?\\n\")\n",
    "\n",
    "print(\"\\nThe user has said: \", txt)"
   ],
   "metadata": {
    "collapsed": false,
    "ExecuteTime": {
     "end_time": "2024-02-10T19:33:12.246039Z",
     "start_time": "2024-02-10T19:33:04.859937Z"
    }
   },
   "id": "335331c4e8ca9d6a"
  },
  {
   "cell_type": "code",
   "execution_count": 13,
   "outputs": [
    {
     "data": {
      "text/plain": "'15'"
     },
     "execution_count": 13,
     "metadata": {},
     "output_type": "execute_result"
    }
   ],
   "source": [
    "a = input(\"Enter the first number: \")\n",
    "b = input(\"Enter the second number: \")\n",
    "a + b"
   ],
   "metadata": {
    "collapsed": false,
    "ExecuteTime": {
     "end_time": "2024-02-10T19:33:15.661706Z",
     "start_time": "2024-02-10T19:33:11.105429Z"
    }
   },
   "id": "6703022b9020f237"
  },
  {
   "cell_type": "code",
   "execution_count": 14,
   "outputs": [
    {
     "data": {
      "text/plain": "6"
     },
     "execution_count": 14,
     "metadata": {},
     "output_type": "execute_result"
    }
   ],
   "source": [
    "a = int(input(\"Enter the first number: \"))\n",
    "b = int(input(\"Enter the second number: \"))\n",
    "a + b"
   ],
   "metadata": {
    "collapsed": false,
    "ExecuteTime": {
     "end_time": "2024-02-10T19:33:18.120582Z",
     "start_time": "2024-02-10T19:33:15.487936Z"
    }
   },
   "id": "a8ff620703a5e1d2"
  },
  {
   "cell_type": "code",
   "execution_count": 15,
   "outputs": [
    {
     "name": "stdout",
     "output_type": "stream",
     "text": [
      "You have entered 123 which is a type of <class 'str'>\n",
      "This is converted to 123 which is a type of <class 'int'>\n"
     ]
    }
   ],
   "source": [
    "s = input()\n",
    "print(\"You have entered\", s, \"which is a type of\", type(s))\n",
    "a = int(s)\n",
    "print(\"This is converted to\", a, \"which is a type of\", type(a))"
   ],
   "metadata": {
    "collapsed": false,
    "ExecuteTime": {
     "end_time": "2024-02-10T19:33:22.079967Z",
     "start_time": "2024-02-10T19:33:17.989952Z"
    }
   },
   "id": "bb9f03105924ed5f"
  },
  {
   "cell_type": "markdown",
   "source": [
    "### Sequences\n",
    "\n",
    "There are three different types of sequences:\n",
    "- Lists (denoted `list`)\n",
    "- Tuples (denoted `tuple`)\n",
    "- Ranges (denoted `range`)"
   ],
   "metadata": {
    "collapsed": false
   },
   "id": "9dde22bfef15c9b6"
  },
  {
   "cell_type": "markdown",
   "source": [
    "### Lists"
   ],
   "metadata": {
    "collapsed": false
   },
   "id": "79a4e494d54e69c3"
  },
  {
   "cell_type": "code",
   "execution_count": 16,
   "outputs": [],
   "source": [
    "squares = [1, 4, 9, 16, 25, 36]"
   ],
   "metadata": {
    "collapsed": false,
    "ExecuteTime": {
     "end_time": "2024-02-10T19:33:22.104673Z",
     "start_time": "2024-02-10T19:33:21.723443Z"
    }
   },
   "id": "f4c37b616046ecb4"
  },
  {
   "cell_type": "code",
   "execution_count": 17,
   "outputs": [
    {
     "data": {
      "text/plain": "list"
     },
     "execution_count": 17,
     "metadata": {},
     "output_type": "execute_result"
    }
   ],
   "source": [
    "type(squares)"
   ],
   "metadata": {
    "collapsed": false,
    "ExecuteTime": {
     "end_time": "2024-02-10T19:33:22.199746Z",
     "start_time": "2024-02-10T19:33:21.728924Z"
    }
   },
   "id": "61c08a0da63069b3"
  },
  {
   "cell_type": "code",
   "execution_count": 18,
   "outputs": [
    {
     "name": "stdout",
     "output_type": "stream",
     "text": [
      "[[0, 1], [2, 3], [5, -1], [-2, -7]]\n"
     ]
    }
   ],
   "source": [
    "points = [[0, 1], [2, 3], [5, -1], [-2, -7]]\n",
    "print(points)"
   ],
   "metadata": {
    "collapsed": false,
    "ExecuteTime": {
     "end_time": "2024-02-10T19:33:22.265023Z",
     "start_time": "2024-02-10T19:33:21.730858Z"
    }
   },
   "id": "c56a2224dbe656e5"
  },
  {
   "cell_type": "code",
   "execution_count": 19,
   "outputs": [
    {
     "data": {
      "text/plain": "list"
     },
     "execution_count": 19,
     "metadata": {},
     "output_type": "execute_result"
    }
   ],
   "source": [
    "type(points)"
   ],
   "metadata": {
    "collapsed": false,
    "ExecuteTime": {
     "end_time": "2024-02-10T19:33:22.566843Z",
     "start_time": "2024-02-10T19:33:21.732865Z"
    }
   },
   "id": "8b02a27c070e9b09"
  },
  {
   "cell_type": "code",
   "execution_count": 20,
   "outputs": [],
   "source": [
    "more_squares = [1, 4, 9, 16, 25, 36, 49, 64]"
   ],
   "metadata": {
    "collapsed": false,
    "ExecuteTime": {
     "end_time": "2024-02-10T19:33:22.632495Z",
     "start_time": "2024-02-10T19:33:21.738716Z"
    }
   },
   "id": "a9020b6244194e11"
  },
  {
   "cell_type": "code",
   "execution_count": 21,
   "outputs": [
    {
     "name": "stdout",
     "output_type": "stream",
     "text": [
      "[1, 4, 9, 16, 25, 36, 49, 64]\n"
     ]
    }
   ],
   "source": [
    "print(more_squares)"
   ],
   "metadata": {
    "collapsed": false,
    "ExecuteTime": {
     "end_time": "2024-02-10T19:33:22.699682Z",
     "start_time": "2024-02-10T19:33:21.741929Z"
    }
   },
   "id": "34d4e11158c4376a"
  },
  {
   "cell_type": "markdown",
   "source": [
    "Lists do not need to contain the same objects."
   ],
   "metadata": {
    "collapsed": false
   },
   "id": "ea989a373f064d7a"
  },
  {
   "cell_type": "code",
   "execution_count": 22,
   "outputs": [
    {
     "data": {
      "text/plain": "[1, 'two', 'three', [4, 5], 6.0]"
     },
     "execution_count": 22,
     "metadata": {},
     "output_type": "execute_result"
    }
   ],
   "source": [
    "[1, \"two\", \"three\", [4, 5], 6.0]"
   ],
   "metadata": {
    "collapsed": false,
    "ExecuteTime": {
     "end_time": "2024-02-10T19:33:22.757840Z",
     "start_time": "2024-02-10T19:33:21.745321Z"
    }
   },
   "id": "564286d0777ab938"
  },
  {
   "cell_type": "markdown",
   "source": [
    "### Indexing Lists"
   ],
   "metadata": {
    "collapsed": false
   },
   "id": "cb1bd3549913934b"
  },
  {
   "cell_type": "code",
   "execution_count": 23,
   "outputs": [],
   "source": [
    "primes = [2, 3, 5, 7, 11, 13, 17, 19, 23, 29, 31]"
   ],
   "metadata": {
    "collapsed": false,
    "ExecuteTime": {
     "end_time": "2024-02-10T19:33:22.781472Z",
     "start_time": "2024-02-10T19:33:21.748853Z"
    }
   },
   "id": "e5dc8ea0aa5575e6"
  },
  {
   "cell_type": "markdown",
   "source": [
    "Python indexes all sequences starting from 0"
   ],
   "metadata": {
    "collapsed": false
   },
   "id": "a5a6c6a26dced7ce"
  },
  {
   "cell_type": "code",
   "execution_count": 24,
   "outputs": [
    {
     "name": "stdout",
     "output_type": "stream",
     "text": [
      "2\n"
     ]
    }
   ],
   "source": [
    "print(primes[0])"
   ],
   "metadata": {
    "collapsed": false,
    "ExecuteTime": {
     "end_time": "2024-02-10T19:33:22.842905Z",
     "start_time": "2024-02-10T19:33:21.751985Z"
    }
   },
   "id": "30e10f6726923629"
  },
  {
   "cell_type": "markdown",
   "source": [
    "Negative indices allow you to access elements starting from the back."
   ],
   "metadata": {
    "collapsed": false
   },
   "id": "98786beffcc5b59a"
  },
  {
   "cell_type": "code",
   "execution_count": 25,
   "outputs": [
    {
     "name": "stdout",
     "output_type": "stream",
     "text": [
      "31\n",
      "29\n",
      "23\n"
     ]
    }
   ],
   "source": [
    "print(primes[-1])\n",
    "print(primes[-2])\n",
    "print(primes[-3])"
   ],
   "metadata": {
    "collapsed": false,
    "ExecuteTime": {
     "end_time": "2024-02-10T19:33:22.990386Z",
     "start_time": "2024-02-10T19:33:21.754792Z"
    }
   },
   "id": "84a8c124dcc7b4db"
  },
  {
   "cell_type": "markdown",
   "source": [
    "### Operations on List Entries"
   ],
   "metadata": {
    "collapsed": false
   },
   "id": "ac13356d540fef1e"
  },
  {
   "cell_type": "code",
   "execution_count": 26,
   "outputs": [
    {
     "name": "stdout",
     "output_type": "stream",
     "text": [
      "6\n"
     ]
    }
   ],
   "source": [
    "print(primes[0]*primes[1])"
   ],
   "metadata": {
    "collapsed": false,
    "ExecuteTime": {
     "end_time": "2024-02-10T19:33:23.212440Z",
     "start_time": "2024-02-10T19:33:21.757975Z"
    }
   },
   "id": "f13382b818c04f84"
  },
  {
   "cell_type": "code",
   "execution_count": 27,
   "outputs": [
    {
     "name": "stdout",
     "output_type": "stream",
     "text": [
      "29\n"
     ]
    }
   ],
   "source": [
    "print(primes[-1]-primes[0])"
   ],
   "metadata": {
    "collapsed": false,
    "ExecuteTime": {
     "end_time": "2024-02-10T19:33:23.279769Z",
     "start_time": "2024-02-10T19:33:21.762969Z"
    }
   },
   "id": "db237812bee43f94"
  },
  {
   "cell_type": "code",
   "execution_count": 28,
   "outputs": [
    {
     "data": {
      "text/plain": "int"
     },
     "execution_count": 28,
     "metadata": {},
     "output_type": "execute_result"
    }
   ],
   "source": [
    "type(primes[7])"
   ],
   "metadata": {
    "collapsed": false,
    "ExecuteTime": {
     "end_time": "2024-02-10T19:33:23.337515Z",
     "start_time": "2024-02-10T19:33:21.766549Z"
    }
   },
   "id": "3551cc1a9bf53f04"
  },
  {
   "cell_type": "code",
   "execution_count": 29,
   "outputs": [
    {
     "data": {
      "text/plain": "[[0, 1], [2, 3], [5, -1], [-2, -7]]"
     },
     "execution_count": 29,
     "metadata": {},
     "output_type": "execute_result"
    }
   ],
   "source": [
    "points"
   ],
   "metadata": {
    "collapsed": false,
    "ExecuteTime": {
     "end_time": "2024-02-10T19:33:23.432788Z",
     "start_time": "2024-02-10T19:33:21.769665Z"
    }
   },
   "id": "c5e6bfff840d5fc6"
  },
  {
   "cell_type": "code",
   "execution_count": 30,
   "outputs": [
    {
     "data": {
      "text/plain": "list"
     },
     "execution_count": 30,
     "metadata": {},
     "output_type": "execute_result"
    }
   ],
   "source": [
    "type(points[1])"
   ],
   "metadata": {
    "collapsed": false,
    "ExecuteTime": {
     "end_time": "2024-02-10T19:33:23.665457Z",
     "start_time": "2024-02-10T19:33:21.777977Z"
    }
   },
   "id": "f728a3180e95297a"
  },
  {
   "cell_type": "code",
   "execution_count": 31,
   "outputs": [
    {
     "data": {
      "text/plain": "2"
     },
     "execution_count": 31,
     "metadata": {},
     "output_type": "execute_result"
    }
   ],
   "source": [
    "# This takes the second list from the points list and then takes the first element\n",
    "points[1][0]"
   ],
   "metadata": {
    "collapsed": false,
    "ExecuteTime": {
     "end_time": "2024-02-10T19:33:23.732008Z",
     "start_time": "2024-02-10T19:33:21.781028Z"
    }
   },
   "id": "8795ae7321bef917"
  },
  {
   "cell_type": "code",
   "execution_count": 32,
   "outputs": [
    {
     "name": "stdout",
     "output_type": "stream",
     "text": [
      "[[0, 1], [2, 3], [5, -1], [-2, -7]]\n",
      "[2, 3]\n",
      "2\n"
     ]
    }
   ],
   "source": [
    "print(points)\n",
    "print(points[1])\n",
    "print(points[1][0])"
   ],
   "metadata": {
    "collapsed": false,
    "ExecuteTime": {
     "end_time": "2024-02-10T19:33:23.925129Z",
     "start_time": "2024-02-10T19:33:21.784971Z"
    }
   },
   "id": "7be116fbd4e11403"
  },
  {
   "cell_type": "markdown",
   "source": [
    "### Mutability"
   ],
   "metadata": {
    "collapsed": false
   },
   "id": "f72c2bc6c654b346"
  },
  {
   "cell_type": "code",
   "execution_count": 33,
   "outputs": [
    {
     "name": "stdout",
     "output_type": "stream",
     "text": [
      "[2, 4, 5, 7, 11, 13, 17, 19, 23, 29, 31]\n"
     ]
    }
   ],
   "source": [
    "primes[1] = 4\n",
    "print(primes)"
   ],
   "metadata": {
    "collapsed": false,
    "ExecuteTime": {
     "end_time": "2024-02-10T19:33:23.929055Z",
     "start_time": "2024-02-10T19:33:21.787049Z"
    }
   },
   "id": "b8c92663def6dee1"
  },
  {
   "cell_type": "markdown",
   "source": [
    "### Concatenate"
   ],
   "metadata": {
    "collapsed": false
   },
   "id": "b97f47dbd3345759"
  },
  {
   "cell_type": "code",
   "execution_count": 34,
   "outputs": [],
   "source": [
    "fibonacci = [1, 1, 2, 3, 5, 8, 13, 21, 34, 55, 89, 144, 233]"
   ],
   "metadata": {
    "collapsed": false,
    "ExecuteTime": {
     "end_time": "2024-02-10T19:33:23.930075Z",
     "start_time": "2024-02-10T19:33:21.789410Z"
    }
   },
   "id": "868b8d20a6adc23d"
  },
  {
   "cell_type": "code",
   "execution_count": 35,
   "outputs": [
    {
     "name": "stdout",
     "output_type": "stream",
     "text": [
      "[1, 1, 2, 3, 5, 8, 13, 21, 34, 55, 89, 144, 233, 1, 4, 9, 16, 25, 36]\n"
     ]
    }
   ],
   "source": [
    "print(fibonacci + squares)"
   ],
   "metadata": {
    "collapsed": false,
    "ExecuteTime": {
     "end_time": "2024-02-10T19:33:24.084494Z",
     "start_time": "2024-02-10T19:33:22.530567Z"
    }
   },
   "id": "b4ad1df136af4d33"
  },
  {
   "cell_type": "code",
   "execution_count": 36,
   "outputs": [
    {
     "name": "stdout",
     "output_type": "stream",
     "text": [
      "[1, 4, 9, 16, 25, 36, 1, 1, 2, 3, 5, 8, 13, 21, 34, 55, 89, 144, 233]\n",
      "[1, 4, 9, 16, 25, 36, 1, 4, 9, 16, 25, 36]\n"
     ]
    }
   ],
   "source": [
    "print(squares + fibonacci)\n",
    "print(squares + squares)"
   ],
   "metadata": {
    "collapsed": false,
    "ExecuteTime": {
     "end_time": "2024-02-10T19:33:24.663111Z",
     "start_time": "2024-02-10T19:33:24.022724Z"
    }
   },
   "id": "c0fec536a8ca5818"
  },
  {
   "cell_type": "markdown",
   "source": [
    "### Append"
   ],
   "metadata": {
    "collapsed": false
   },
   "id": "433bd3df5d67c23c"
  },
  {
   "cell_type": "code",
   "execution_count": 38,
   "outputs": [
    {
     "name": "stdout",
     "output_type": "stream",
     "text": [
      "[1, 4, 9, 16, 25, 36, 49]\n",
      "[1, 4, 9, 16, 25, 36, 49, 49]\n"
     ]
    }
   ],
   "source": [
    "print(squares)\n",
    "squares.append(49)\n",
    "print(squares)"
   ],
   "metadata": {
    "collapsed": false,
    "ExecuteTime": {
     "end_time": "2024-02-10T19:36:24.228657Z",
     "start_time": "2024-02-10T19:36:24.225210Z"
    }
   },
   "id": "bd53646738e7a8d4"
  },
  {
   "cell_type": "code",
   "outputs": [
    {
     "name": "stdout",
     "output_type": "stream",
     "text": [
      "[1, 4, 9, 16, 25, 36, 49]\n",
      "[1, 4, 9, 16, 25, 36]\n"
     ]
    }
   ],
   "source": [
    "squares = [1, 4, 9, 16, 25, 36]\n",
    "print(squares + [49])\n",
    "print(squares)"
   ],
   "metadata": {
    "collapsed": false,
    "ExecuteTime": {
     "end_time": "2024-02-10T19:37:54.456867Z",
     "start_time": "2024-02-10T19:37:54.449309Z"
    }
   },
   "id": "20ec950cf0fc2874",
   "execution_count": 39
  },
  {
   "cell_type": "code",
   "outputs": [],
   "source": [],
   "metadata": {
    "collapsed": false
   },
   "id": "d648d39da421bb54"
  }
 ],
 "metadata": {
  "kernelspec": {
   "display_name": "Python 3",
   "language": "python",
   "name": "python3"
  },
  "language_info": {
   "codemirror_mode": {
    "name": "ipython",
    "version": 2
   },
   "file_extension": ".py",
   "mimetype": "text/x-python",
   "name": "python",
   "nbconvert_exporter": "python",
   "pygments_lexer": "ipython2",
   "version": "2.7.6"
  }
 },
 "nbformat": 4,
 "nbformat_minor": 5
}
