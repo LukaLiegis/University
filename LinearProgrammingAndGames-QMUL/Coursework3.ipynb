{
 "cells": [
  {
   "cell_type": "code",
   "execution_count": 20,
   "id": "initial_id",
   "metadata": {
    "collapsed": true,
    "ExecuteTime": {
     "end_time": "2024-02-18T16:42:59.114529Z",
     "start_time": "2024-02-18T16:42:59.111579Z"
    }
   },
   "outputs": [],
   "source": [
    "from scipy.optimize import linprog"
   ]
  },
  {
   "cell_type": "code",
   "outputs": [],
   "source": [
    "x1_bounds = (0, None)\n",
    "x2_bounds = (0, None)"
   ],
   "metadata": {
    "collapsed": false,
    "ExecuteTime": {
     "end_time": "2024-02-18T16:42:59.541866Z",
     "start_time": "2024-02-18T16:42:59.536647Z"
    }
   },
   "id": "6fa43675bafc5950",
   "execution_count": 21
  },
  {
   "cell_type": "code",
   "outputs": [],
   "source": [
    "# coefficients of the objective function\n",
    "c = [4, -1]"
   ],
   "metadata": {
    "collapsed": false,
    "ExecuteTime": {
     "end_time": "2024-02-18T16:43:10.333271Z",
     "start_time": "2024-02-18T16:43:10.327299Z"
    }
   },
   "id": "4f87a274a55180ab",
   "execution_count": 27
  },
  {
   "cell_type": "code",
   "outputs": [],
   "source": [
    "# constraint matrix\n",
    "A = [[-1, 1],\n",
    "     [1, -2],\n",
    "     [-1, -1]]"
   ],
   "metadata": {
    "collapsed": false,
    "ExecuteTime": {
     "end_time": "2024-02-18T16:43:10.798019Z",
     "start_time": "2024-02-18T16:43:10.796471Z"
    }
   },
   "id": "5da4b1f9868f4dcf",
   "execution_count": 28
  },
  {
   "cell_type": "code",
   "outputs": [],
   "source": [
    "# inequality constraint vector\n",
    "b = [2, 4, -7]"
   ],
   "metadata": {
    "collapsed": false,
    "ExecuteTime": {
     "end_time": "2024-02-18T16:43:11.435956Z",
     "start_time": "2024-02-18T16:43:11.432695Z"
    }
   },
   "id": "934c9ba345bd7efa",
   "execution_count": 29
  },
  {
   "cell_type": "code",
   "outputs": [],
   "source": [
    "# solution\n",
    "results = linprog(c = c, A_ub = A, b_ub = b, bounds = [x1_bounds, x2_bounds], method = 'highs-ds')"
   ],
   "metadata": {
    "collapsed": false,
    "ExecuteTime": {
     "end_time": "2024-02-18T16:43:11.838415Z",
     "start_time": "2024-02-18T16:43:11.836626Z"
    }
   },
   "id": "92d7134f617ac7cc",
   "execution_count": 30
  },
  {
   "cell_type": "code",
   "outputs": [
    {
     "name": "stdout",
     "output_type": "stream",
     "text": [
      "The solution is optimal.\n",
      "Objective value: z* = 5.5\n",
      "Solution: x1* = 2.5, x2* = 4.5\n"
     ]
    }
   ],
   "source": [
    "# print results\n",
    "if results.status == 0: print(f'The solution is optimal.') \n",
    "print(f'Objective value: z* = {results.fun}')\n",
    "print(f'Solution: x1* = {results.x[0]}, x2* = {results.x[1]}')"
   ],
   "metadata": {
    "collapsed": false,
    "ExecuteTime": {
     "end_time": "2024-02-18T16:43:12.389330Z",
     "start_time": "2024-02-18T16:43:12.386430Z"
    }
   },
   "id": "a9df360a483f79ee",
   "execution_count": 31
  },
  {
   "cell_type": "code",
   "outputs": [],
   "source": [],
   "metadata": {
    "collapsed": false,
    "is_executing": true
   },
   "id": "d184b5d6f6963a16"
  }
 ],
 "metadata": {
  "kernelspec": {
   "display_name": "Python 3",
   "language": "python",
   "name": "python3"
  },
  "language_info": {
   "codemirror_mode": {
    "name": "ipython",
    "version": 2
   },
   "file_extension": ".py",
   "mimetype": "text/x-python",
   "name": "python",
   "nbconvert_exporter": "python",
   "pygments_lexer": "ipython2",
   "version": "2.7.6"
  }
 },
 "nbformat": 4,
 "nbformat_minor": 5
}
