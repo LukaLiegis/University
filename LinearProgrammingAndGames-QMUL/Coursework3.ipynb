{
 "cells": [
  {
   "cell_type": "markdown",
   "source": [
    "### Question 1"
   ],
   "metadata": {
    "collapsed": false
   },
   "id": "f4d8846da0d45ffd"
  },
  {
   "cell_type": "code",
   "execution_count": 32,
   "id": "initial_id",
   "metadata": {
    "collapsed": true,
    "ExecuteTime": {
     "end_time": "2024-02-18T20:41:39.671664Z",
     "start_time": "2024-02-18T20:41:39.664837Z"
    }
   },
   "outputs": [],
   "source": [
    "from scipy.optimize import linprog"
   ]
  },
  {
   "cell_type": "code",
   "outputs": [],
   "source": [
    "x1_bounds = (0, None)\n",
    "x2_bounds = (0, None)"
   ],
   "metadata": {
    "collapsed": false,
    "ExecuteTime": {
     "end_time": "2024-02-18T20:41:40.068039Z",
     "start_time": "2024-02-18T20:41:40.065199Z"
    }
   },
   "id": "6fa43675bafc5950",
   "execution_count": 33
  },
  {
   "cell_type": "code",
   "outputs": [],
   "source": [
    "# coefficients of the objective function\n",
    "c = [4, -1]"
   ],
   "metadata": {
    "collapsed": false,
    "ExecuteTime": {
     "end_time": "2024-02-18T20:41:40.449054Z",
     "start_time": "2024-02-18T20:41:40.446281Z"
    }
   },
   "id": "4f87a274a55180ab",
   "execution_count": 34
  },
  {
   "cell_type": "code",
   "outputs": [],
   "source": [
    "# constraint matrix\n",
    "A = [[-1, 1],\n",
    "     [1, -2],\n",
    "     [-1, -1]]"
   ],
   "metadata": {
    "collapsed": false,
    "ExecuteTime": {
     "end_time": "2024-02-18T20:41:40.866558Z",
     "start_time": "2024-02-18T20:41:40.864853Z"
    }
   },
   "id": "5da4b1f9868f4dcf",
   "execution_count": 35
  },
  {
   "cell_type": "code",
   "outputs": [],
   "source": [
    "# inequality constraint vector\n",
    "b = [2, 4, -7]"
   ],
   "metadata": {
    "collapsed": false,
    "ExecuteTime": {
     "end_time": "2024-02-18T20:41:41.270011Z",
     "start_time": "2024-02-18T20:41:41.265126Z"
    }
   },
   "id": "934c9ba345bd7efa",
   "execution_count": 36
  },
  {
   "cell_type": "code",
   "outputs": [],
   "source": [
    "# solution\n",
    "results = linprog(c = c, A_ub = A, b_ub = b, bounds = [x1_bounds, x2_bounds], method = 'highs-ds')"
   ],
   "metadata": {
    "collapsed": false,
    "ExecuteTime": {
     "end_time": "2024-02-18T20:41:41.664034Z",
     "start_time": "2024-02-18T20:41:41.660149Z"
    }
   },
   "id": "92d7134f617ac7cc",
   "execution_count": 37
  },
  {
   "cell_type": "code",
   "outputs": [
    {
     "name": "stdout",
     "output_type": "stream",
     "text": [
      "The solution is optimal.\n",
      "Objective value: z* = 5.5\n",
      "Solution: x1* = 2.5, x2* = 4.5\n"
     ]
    }
   ],
   "source": [
    "# print results\n",
    "if results.status == 0: print(f'The solution is optimal.') \n",
    "print(f'Objective value: z* = {results.fun}')\n",
    "print(f'Solution: x1* = {results.x[0]}, x2* = {results.x[1]}')"
   ],
   "metadata": {
    "collapsed": false,
    "ExecuteTime": {
     "end_time": "2024-02-18T20:41:42.267469Z",
     "start_time": "2024-02-18T20:41:42.127540Z"
    }
   },
   "id": "a9df360a483f79ee",
   "execution_count": 38
  },
  {
   "cell_type": "markdown",
   "source": [
    "### Question 2"
   ],
   "metadata": {
    "collapsed": false
   },
   "id": "84b1e29af2889bac"
  },
  {
   "cell_type": "code",
   "outputs": [],
   "source": [
    "# coefficients of the objective function\n",
    "c_2 = [-0.5, -2]"
   ],
   "metadata": {
    "collapsed": false,
    "ExecuteTime": {
     "end_time": "2024-02-18T20:41:49.788065Z",
     "start_time": "2024-02-18T20:41:49.784421Z"
    }
   },
   "id": "aaa1cca1f49ad347",
   "execution_count": 40
  },
  {
   "cell_type": "code",
   "outputs": [],
   "source": [
    "# constraint matrix\n",
    "A_2 = [[-1, 2],\n",
    "       [1.5, 3]]"
   ],
   "metadata": {
    "collapsed": false,
    "ExecuteTime": {
     "end_time": "2024-02-18T20:42:22.044007Z",
     "start_time": "2024-02-18T20:42:22.037919Z"
    }
   },
   "id": "b768cdd619c3396a",
   "execution_count": 41
  },
  {
   "cell_type": "code",
   "outputs": [],
   "source": [
    "# inequality constraint vector\n",
    "b_2 = [4, 12]"
   ],
   "metadata": {
    "collapsed": false,
    "ExecuteTime": {
     "end_time": "2024-02-18T20:42:36.349551Z",
     "start_time": "2024-02-18T20:42:36.343460Z"
    }
   },
   "id": "90319ba18976cd73",
   "execution_count": 42
  },
  {
   "cell_type": "code",
   "outputs": [],
   "source": [
    "# solution\n",
    "results_2 = linprog(c = c_2, A_ub = A_2, b_ub = b_2, bounds = [x1_bounds, x2_bounds], method = 'highs-ds')"
   ],
   "metadata": {
    "collapsed": false,
    "ExecuteTime": {
     "end_time": "2024-02-18T20:42:53.297577Z",
     "start_time": "2024-02-18T20:42:53.289590Z"
    }
   },
   "id": "5859621f80307adc",
   "execution_count": 43
  },
  {
   "cell_type": "code",
   "outputs": [
    {
     "name": "stdout",
     "output_type": "stream",
     "text": [
      "The solution is optimal.\n",
      "Objective value: z* = -7.0\n",
      "Solution: x1* = 2.0, x2* = 3.0\n"
     ]
    }
   ],
   "source": [
    "# print results\n",
    "if results_2.status == 0: print(f'The solution is optimal.') \n",
    "print(f'Objective value: z* = {results_2.fun}')\n",
    "print(f'Solution: x1* = {results_2.x[0]}, x2* = {results_2.x[1]}')"
   ],
   "metadata": {
    "collapsed": false,
    "ExecuteTime": {
     "end_time": "2024-02-18T20:43:09.676328Z",
     "start_time": "2024-02-18T20:43:09.669196Z"
    }
   },
   "id": "f90005e540fa2c90",
   "execution_count": 44
  },
  {
   "cell_type": "code",
   "outputs": [],
   "source": [],
   "metadata": {
    "collapsed": false
   },
   "id": "29c7917195c1dbf1"
  }
 ],
 "metadata": {
  "kernelspec": {
   "display_name": "Python 3",
   "language": "python",
   "name": "python3"
  },
  "language_info": {
   "codemirror_mode": {
    "name": "ipython",
    "version": 2
   },
   "file_extension": ".py",
   "mimetype": "text/x-python",
   "name": "python",
   "nbconvert_exporter": "python",
   "pygments_lexer": "ipython2",
   "version": "2.7.6"
  }
 },
 "nbformat": 4,
 "nbformat_minor": 5
}
