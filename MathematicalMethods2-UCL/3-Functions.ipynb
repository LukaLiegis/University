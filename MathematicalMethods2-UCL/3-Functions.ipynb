{
 "cells": [
  {
   "cell_type": "code",
   "execution_count": 1,
   "id": "initial_id",
   "metadata": {
    "collapsed": true,
    "ExecuteTime": {
     "end_time": "2024-01-07T17:00:28.787511Z",
     "start_time": "2024-01-07T17:00:28.784530Z"
    }
   },
   "outputs": [],
   "source": [
    "def square(x):\n",
    "    return x ** 2"
   ]
  },
  {
   "cell_type": "markdown",
   "source": [
    "Once we have a function we are able to call it."
   ],
   "metadata": {
    "collapsed": false
   },
   "id": "e658a913e157bc78"
  },
  {
   "cell_type": "code",
   "execution_count": 2,
   "outputs": [
    {
     "data": {
      "text/plain": "4"
     },
     "execution_count": 2,
     "metadata": {},
     "output_type": "execute_result"
    }
   ],
   "source": [
    "square(-2)"
   ],
   "metadata": {
    "collapsed": false,
    "ExecuteTime": {
     "end_time": "2024-01-07T17:02:52.646620Z",
     "start_time": "2024-01-07T17:02:52.635118Z"
    }
   },
   "id": "66761b9acebc5958"
  },
  {
   "cell_type": "code",
   "execution_count": 3,
   "outputs": [
    {
     "data": {
      "text/plain": "16"
     },
     "execution_count": 3,
     "metadata": {},
     "output_type": "execute_result"
    }
   ],
   "source": [
    "square(4)"
   ],
   "metadata": {
    "collapsed": false,
    "ExecuteTime": {
     "end_time": "2024-01-07T17:02:59.243505Z",
     "start_time": "2024-01-07T17:02:59.233228Z"
    }
   },
   "id": "afbec13fd2d8a5d4"
  },
  {
   "cell_type": "markdown",
   "source": [
    "Recall our quadratic example from before"
   ],
   "metadata": {
    "collapsed": false
   },
   "id": "5f8aa76e057ce3b6"
  },
  {
   "cell_type": "code",
   "execution_count": 4,
   "outputs": [],
   "source": [
    "a = 2\n",
    "b = 5\n",
    "c = 2\n",
    "root_plus = (-b + (b ** 2 - 4 * a * c) ** 0.5) / (2 * a)\n",
    "root_minus = (-b - (b ** 2 - 4 * a * c) ** 0.5) / (2 * a)"
   ],
   "metadata": {
    "collapsed": false,
    "ExecuteTime": {
     "end_time": "2024-01-07T17:04:27.476755Z",
     "start_time": "2024-01-07T17:04:27.473237Z"
    }
   },
   "id": "468e3377ad034a85"
  },
  {
   "cell_type": "code",
   "execution_count": 5,
   "outputs": [],
   "source": [
    "def f(y):\n",
    "    return 2 * y ** 2 +5 * y + 2"
   ],
   "metadata": {
    "collapsed": false,
    "ExecuteTime": {
     "end_time": "2024-01-07T17:06:06.872871Z",
     "start_time": "2024-01-07T17:06:06.864164Z"
    }
   },
   "id": "4854fe0c3c06ac04"
  },
  {
   "cell_type": "code",
   "execution_count": 6,
   "outputs": [
    {
     "data": {
      "text/plain": "0.0"
     },
     "execution_count": 6,
     "metadata": {},
     "output_type": "execute_result"
    }
   ],
   "source": [
    "f(root_plus)"
   ],
   "metadata": {
    "collapsed": false,
    "ExecuteTime": {
     "end_time": "2024-01-07T17:06:34.887660Z",
     "start_time": "2024-01-07T17:06:34.881806Z"
    }
   },
   "id": "f2265732195dcb70"
  },
  {
   "cell_type": "code",
   "execution_count": 7,
   "outputs": [
    {
     "data": {
      "text/plain": "0.0"
     },
     "execution_count": 7,
     "metadata": {},
     "output_type": "execute_result"
    }
   ],
   "source": [
    "f(root_minus)"
   ],
   "metadata": {
    "collapsed": false,
    "ExecuteTime": {
     "end_time": "2024-01-07T17:06:41.678911Z",
     "start_time": "2024-01-07T17:06:41.668548Z"
    }
   },
   "id": "79b588ddf4971a44"
  },
  {
   "cell_type": "markdown",
   "source": [
    "Functions can have as many inputs as you want"
   ],
   "metadata": {
    "collapsed": false
   },
   "id": "39d35bc1e2d4c11a"
  },
  {
   "cell_type": "code",
   "execution_count": 8,
   "outputs": [],
   "source": [
    "def add (a, b):\n",
    "    return a + b"
   ],
   "metadata": {
    "collapsed": false,
    "ExecuteTime": {
     "end_time": "2024-01-07T17:07:25.002943Z",
     "start_time": "2024-01-07T17:07:24.992851Z"
    }
   },
   "id": "b51c6930e37960b2"
  },
  {
   "cell_type": "code",
   "execution_count": 9,
   "outputs": [
    {
     "data": {
      "text/plain": "0"
     },
     "execution_count": 9,
     "metadata": {},
     "output_type": "execute_result"
    }
   ],
   "source": [
    "add(-1, 1)"
   ],
   "metadata": {
    "collapsed": false,
    "ExecuteTime": {
     "end_time": "2024-01-07T17:07:32.248589Z",
     "start_time": "2024-01-07T17:07:32.242409Z"
    }
   },
   "id": "711158472073b3d9"
  },
  {
   "cell_type": "markdown",
   "source": [
    "### Printing to the Screen\n",
    "You can display things with `print`"
   ],
   "metadata": {
    "collapsed": false
   },
   "id": "92dc5fa8df5ef81a"
  },
  {
   "cell_type": "code",
   "execution_count": 10,
   "outputs": [
    {
     "name": "stdout",
     "output_type": "stream",
     "text": [
      "hello\n"
     ]
    }
   ],
   "source": [
    "print(\"hello\")"
   ],
   "metadata": {
    "collapsed": false,
    "ExecuteTime": {
     "end_time": "2024-01-07T17:08:15.560249Z",
     "start_time": "2024-01-07T17:08:15.547986Z"
    }
   },
   "id": "cebacacdb79e857"
  },
  {
   "cell_type": "code",
   "execution_count": 11,
   "outputs": [
    {
     "name": "stdout",
     "output_type": "stream",
     "text": [
      "1.234\n"
     ]
    }
   ],
   "source": [
    "print(1.234)"
   ],
   "metadata": {
    "collapsed": false,
    "ExecuteTime": {
     "end_time": "2024-01-07T17:08:28.570472Z",
     "start_time": "2024-01-07T17:08:28.560916Z"
    }
   },
   "id": "a276ca91dcaad302"
  },
  {
   "cell_type": "markdown",
   "source": [
    "You can use `print` in a function. But printing is different to returning a value. "
   ],
   "metadata": {
    "collapsed": false
   },
   "id": "c7c7f015b5dc921d"
  },
  {
   "cell_type": "code",
   "execution_count": 12,
   "outputs": [],
   "source": [
    "def f(x):\n",
    "    print(x + 1)\n",
    "    \n",
    "def g(x):\n",
    "    return x + 1"
   ],
   "metadata": {
    "collapsed": false,
    "ExecuteTime": {
     "end_time": "2024-01-07T17:10:53.198648Z",
     "start_time": "2024-01-07T17:10:53.186818Z"
    }
   },
   "id": "bfd6a89c36ba6de3"
  },
  {
   "cell_type": "code",
   "execution_count": 13,
   "outputs": [
    {
     "name": "stdout",
     "output_type": "stream",
     "text": [
      "2\n"
     ]
    }
   ],
   "source": [
    "f(1)"
   ],
   "metadata": {
    "collapsed": false,
    "ExecuteTime": {
     "end_time": "2024-01-07T17:10:55.569939Z",
     "start_time": "2024-01-07T17:10:55.561190Z"
    }
   },
   "id": "d0902f4bebe75487"
  },
  {
   "cell_type": "code",
   "execution_count": 14,
   "outputs": [
    {
     "data": {
      "text/plain": "2"
     },
     "execution_count": 14,
     "metadata": {},
     "output_type": "execute_result"
    }
   ],
   "source": [
    "g(1)"
   ],
   "metadata": {
    "collapsed": false,
    "ExecuteTime": {
     "end_time": "2024-01-07T17:11:02.353140Z",
     "start_time": "2024-01-07T17:11:02.347141Z"
    }
   },
   "id": "c8845a9fbab4b1c4"
  },
  {
   "cell_type": "code",
   "execution_count": 16,
   "outputs": [
    {
     "data": {
      "text/plain": "3"
     },
     "execution_count": 16,
     "metadata": {},
     "output_type": "execute_result"
    }
   ],
   "source": [
    "g(1) + 1"
   ],
   "metadata": {
    "collapsed": false,
    "ExecuteTime": {
     "end_time": "2024-01-07T17:11:14.246282Z",
     "start_time": "2024-01-07T17:11:14.239497Z"
    }
   },
   "id": "5a79918db53e50e6"
  },
  {
   "cell_type": "code",
   "execution_count": 17,
   "outputs": [
    {
     "name": "stdout",
     "output_type": "stream",
     "text": [
      "2\n"
     ]
    },
    {
     "ename": "TypeError",
     "evalue": "unsupported operand type(s) for +: 'NoneType' and 'int'",
     "output_type": "error",
     "traceback": [
      "\u001B[0;31m---------------------------------------------------------------------------\u001B[0m",
      "\u001B[0;31mTypeError\u001B[0m                                 Traceback (most recent call last)",
      "Cell \u001B[0;32mIn[17], line 1\u001B[0m\n\u001B[0;32m----> 1\u001B[0m \u001B[43mf\u001B[49m\u001B[43m(\u001B[49m\u001B[38;5;241;43m1\u001B[39;49m\u001B[43m)\u001B[49m\u001B[43m \u001B[49m\u001B[38;5;241;43m+\u001B[39;49m\u001B[43m \u001B[49m\u001B[38;5;241;43m1\u001B[39;49m\n",
      "\u001B[0;31mTypeError\u001B[0m: unsupported operand type(s) for +: 'NoneType' and 'int'"
     ]
    }
   ],
   "source": [
    "f(1) + 1"
   ],
   "metadata": {
    "collapsed": false,
    "ExecuteTime": {
     "end_time": "2024-01-07T17:11:19.011931Z",
     "start_time": "2024-01-07T17:11:19.001155Z"
    }
   },
   "id": "3a552f6e037dd0bd"
  },
  {
   "cell_type": "code",
   "execution_count": null,
   "outputs": [],
   "source": [],
   "metadata": {
    "collapsed": false
   },
   "id": "8f472d8caeec6d44"
  }
 ],
 "metadata": {
  "kernelspec": {
   "display_name": "Python 3",
   "language": "python",
   "name": "python3"
  },
  "language_info": {
   "codemirror_mode": {
    "name": "ipython",
    "version": 2
   },
   "file_extension": ".py",
   "mimetype": "text/x-python",
   "name": "python",
   "nbconvert_exporter": "python",
   "pygments_lexer": "ipython2",
   "version": "2.7.6"
  }
 },
 "nbformat": 4,
 "nbformat_minor": 5
}
