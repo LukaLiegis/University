{
 "cells": [
  {
   "cell_type": "markdown",
   "source": [
    "### Local Variable\n",
    "**Local variables** are defined inside a function."
   ],
   "metadata": {
    "collapsed": false
   },
   "id": "b370902e2d85cb5f"
  },
  {
   "cell_type": "code",
   "execution_count": 2,
   "id": "initial_id",
   "metadata": {
    "collapsed": true,
    "ExecuteTime": {
     "end_time": "2024-01-11T16:37:40.366475Z",
     "start_time": "2024-01-11T16:37:40.362215Z"
    }
   },
   "outputs": [],
   "source": [
    "def f(x):\n",
    "    y = 2 # y is a local variable for the function f\n",
    "    return x + y"
   ]
  },
  {
   "cell_type": "markdown",
   "source": [
    "Local variables aren't available outside the functions they belong to."
   ],
   "metadata": {
    "collapsed": false
   },
   "id": "b95e75779983a407"
  },
  {
   "cell_type": "code",
   "execution_count": 3,
   "outputs": [
    {
     "data": {
      "text/plain": "3"
     },
     "execution_count": 3,
     "metadata": {},
     "output_type": "execute_result"
    }
   ],
   "source": [
    "f(1)"
   ],
   "metadata": {
    "collapsed": false,
    "ExecuteTime": {
     "end_time": "2024-01-11T16:38:10.593742Z",
     "start_time": "2024-01-11T16:38:10.579449Z"
    }
   },
   "id": "17dbd3094db3f89b"
  },
  {
   "cell_type": "code",
   "execution_count": 4,
   "outputs": [
    {
     "ename": "NameError",
     "evalue": "name 'y' is not defined",
     "output_type": "error",
     "traceback": [
      "\u001B[0;31m---------------------------------------------------------------------------\u001B[0m",
      "\u001B[0;31mNameError\u001B[0m                                 Traceback (most recent call last)",
      "Cell \u001B[0;32mIn[4], line 1\u001B[0m\n\u001B[0;32m----> 1\u001B[0m \u001B[43my\u001B[49m\n",
      "\u001B[0;31mNameError\u001B[0m: name 'y' is not defined"
     ]
    }
   ],
   "source": [
    "y"
   ],
   "metadata": {
    "collapsed": false,
    "ExecuteTime": {
     "end_time": "2024-01-11T16:38:11.971534Z",
     "start_time": "2024-01-11T16:38:11.902174Z"
    }
   },
   "id": "205c2c9277e3e8f"
  },
  {
   "cell_type": "markdown",
   "source": [
    "### Global Variable\n",
    "**Global variables** are defined outside any function"
   ],
   "metadata": {
    "collapsed": false
   },
   "id": "92822ae52c9a617e"
  },
  {
   "cell_type": "code",
   "execution_count": 8,
   "outputs": [],
   "source": [
    "z = 10 # z is a global variable"
   ],
   "metadata": {
    "collapsed": false,
    "ExecuteTime": {
     "end_time": "2024-01-11T16:39:54.623175Z",
     "start_time": "2024-01-11T16:39:54.617213Z"
    }
   },
   "id": "8061e92aa1e51cb5"
  },
  {
   "cell_type": "code",
   "execution_count": 6,
   "outputs": [],
   "source": [
    "def g(x):\n",
    "    return x + z"
   ],
   "metadata": {
    "collapsed": false,
    "ExecuteTime": {
     "end_time": "2024-01-11T16:39:35.972361Z",
     "start_time": "2024-01-11T16:39:35.962606Z"
    }
   },
   "id": "c49025d4c49fb353"
  },
  {
   "cell_type": "code",
   "execution_count": 9,
   "outputs": [
    {
     "data": {
      "text/plain": "11"
     },
     "execution_count": 9,
     "metadata": {},
     "output_type": "execute_result"
    }
   ],
   "source": [
    "g(1)"
   ],
   "metadata": {
    "collapsed": false,
    "ExecuteTime": {
     "end_time": "2024-01-11T16:40:22.293817Z",
     "start_time": "2024-01-11T16:40:22.288812Z"
    }
   },
   "id": "50b275397c89efff"
  },
  {
   "cell_type": "markdown",
   "source": [
    "Global variables can lead to confusing effects."
   ],
   "metadata": {
    "collapsed": false
   },
   "id": "a76d19a913f7fa84"
  },
  {
   "cell_type": "code",
   "execution_count": 10,
   "outputs": [],
   "source": [
    "z = 20"
   ],
   "metadata": {
    "collapsed": false,
    "ExecuteTime": {
     "end_time": "2024-01-11T16:41:41.090759Z",
     "start_time": "2024-01-11T16:41:41.084246Z"
    }
   },
   "id": "738c75ef99e42a52"
  },
  {
   "cell_type": "code",
   "execution_count": 11,
   "outputs": [
    {
     "data": {
      "text/plain": "21"
     },
     "execution_count": 11,
     "metadata": {},
     "output_type": "execute_result"
    }
   ],
   "source": [
    "g(1)"
   ],
   "metadata": {
    "collapsed": false,
    "ExecuteTime": {
     "end_time": "2024-01-11T16:41:47.264812Z",
     "start_time": "2024-01-11T16:41:47.256553Z"
    }
   },
   "id": "5543923ad7dea2d1"
  },
  {
   "cell_type": "markdown",
   "source": [
    "An even worse example would be"
   ],
   "metadata": {
    "collapsed": false
   },
   "id": "ce3990ec97208604"
  },
  {
   "cell_type": "code",
   "execution_count": 15,
   "outputs": [],
   "source": [
    "a = 1 # this is a global variable\n",
    "def h(x):\n",
    "    a = 2 # this is a local to the function h\n",
    "    return a * x"
   ],
   "metadata": {
    "collapsed": false,
    "ExecuteTime": {
     "end_time": "2024-01-11T16:43:23.267006Z",
     "start_time": "2024-01-11T16:43:23.260748Z"
    }
   },
   "id": "f6d074a4f16488e5"
  },
  {
   "cell_type": "code",
   "execution_count": 16,
   "outputs": [
    {
     "data": {
      "text/plain": "2"
     },
     "execution_count": 16,
     "metadata": {},
     "output_type": "execute_result"
    }
   ],
   "source": [
    "h(1)"
   ],
   "metadata": {
    "collapsed": false,
    "ExecuteTime": {
     "end_time": "2024-01-11T16:43:23.673697Z",
     "start_time": "2024-01-11T16:43:23.669961Z"
    }
   },
   "id": "fd3e359ea81abd90"
  },
  {
   "cell_type": "code",
   "execution_count": 17,
   "outputs": [
    {
     "data": {
      "text/plain": "1"
     },
     "execution_count": 17,
     "metadata": {},
     "output_type": "execute_result"
    }
   ],
   "source": [
    "a"
   ],
   "metadata": {
    "collapsed": false,
    "ExecuteTime": {
     "end_time": "2024-01-11T16:43:24.040069Z",
     "start_time": "2024-01-11T16:43:24.036666Z"
    }
   },
   "id": "824f26997c7a59e2"
  },
  {
   "cell_type": "markdown",
   "source": [
    "- It is suggested to avoid global variables where possible\n",
    "- Avoid re-suing variable names"
   ],
   "metadata": {
    "collapsed": false
   },
   "id": "c30e22e3dd503451"
  },
  {
   "cell_type": "code",
   "execution_count": null,
   "outputs": [],
   "source": [],
   "metadata": {
    "collapsed": false
   },
   "id": "affefee82f39487f"
  }
 ],
 "metadata": {
  "kernelspec": {
   "display_name": "Python 3",
   "language": "python",
   "name": "python3"
  },
  "language_info": {
   "codemirror_mode": {
    "name": "ipython",
    "version": 2
   },
   "file_extension": ".py",
   "mimetype": "text/x-python",
   "name": "python",
   "nbconvert_exporter": "python",
   "pygments_lexer": "ipython2",
   "version": "2.7.6"
  }
 },
 "nbformat": 4,
 "nbformat_minor": 5
}
