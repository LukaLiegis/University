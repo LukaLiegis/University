{
 "cells": [
  {
   "cell_type": "markdown",
   "source": [
    "### Addition, subtraction, multiplication, and division"
   ],
   "metadata": {
    "collapsed": false
   },
   "id": "62c7b723a88203a8"
  },
  {
   "cell_type": "code",
   "execution_count": 1,
   "id": "initial_id",
   "metadata": {
    "collapsed": true,
    "ExecuteTime": {
     "end_time": "2023-12-26T16:14:21.100046Z",
     "start_time": "2023-12-26T16:14:21.085278Z"
    }
   },
   "outputs": [
    {
     "data": {
      "text/plain": "-3"
     },
     "execution_count": 1,
     "metadata": {},
     "output_type": "execute_result"
    }
   ],
   "source": [
    "2 + 4 - 9"
   ]
  },
  {
   "cell_type": "code",
   "execution_count": 2,
   "outputs": [
    {
     "data": {
      "text/plain": "8"
     },
     "execution_count": 2,
     "metadata": {},
     "output_type": "execute_result"
    }
   ],
   "source": [
    "2 * 4"
   ],
   "metadata": {
    "collapsed": false,
    "ExecuteTime": {
     "end_time": "2023-12-26T16:14:54.102794Z",
     "start_time": "2023-12-26T16:14:54.098040Z"
    }
   },
   "id": "89cc196bca77ff25"
  },
  {
   "cell_type": "code",
   "execution_count": 3,
   "outputs": [
    {
     "data": {
      "text/plain": "0.3333333333333333"
     },
     "execution_count": 3,
     "metadata": {},
     "output_type": "execute_result"
    }
   ],
   "source": [
    "1 / 3"
   ],
   "metadata": {
    "collapsed": false,
    "ExecuteTime": {
     "end_time": "2023-12-26T16:15:00.822217Z",
     "start_time": "2023-12-26T16:15:00.814312Z"
    }
   },
   "id": "9add3e981649c07"
  },
  {
   "cell_type": "markdown",
   "source": [
    "### Exponentiation\n",
    "To calculate $a^b$ you do `a ** b` instead of `a ^ b`"
   ],
   "metadata": {
    "collapsed": false
   },
   "id": "4c2a6ec2fcc40fac"
  },
  {
   "cell_type": "code",
   "execution_count": 4,
   "outputs": [
    {
     "data": {
      "text/plain": "16"
     },
     "execution_count": 4,
     "metadata": {},
     "output_type": "execute_result"
    }
   ],
   "source": [
    "2 ** 4"
   ],
   "metadata": {
    "collapsed": false,
    "ExecuteTime": {
     "end_time": "2023-12-26T16:17:06.273951Z",
     "start_time": "2023-12-26T16:17:06.269308Z"
    }
   },
   "id": "74598b900c1dbb69"
  },
  {
   "cell_type": "code",
   "execution_count": 6,
   "outputs": [
    {
     "data": {
      "text/plain": "6"
     },
     "execution_count": 6,
     "metadata": {},
     "output_type": "execute_result"
    }
   ],
   "source": [
    "# This is not 2 to the power of 4\n",
    "2 ^ 4 "
   ],
   "metadata": {
    "collapsed": false,
    "ExecuteTime": {
     "end_time": "2023-12-26T16:17:46.299810Z",
     "start_time": "2023-12-26T16:17:46.294463Z"
    }
   },
   "id": "620c0ad33b8292c7"
  },
  {
   "cell_type": "markdown",
   "source": [
    "Since $\\sqrt{a} = a^{\\frac{1}{2}}$ we also use `**` to compute square roots."
   ],
   "metadata": {
    "collapsed": false
   },
   "id": "4d6448e5113a9614"
  },
  {
   "cell_type": "code",
   "execution_count": 7,
   "outputs": [
    {
     "data": {
      "text/plain": "2.0"
     },
     "execution_count": 7,
     "metadata": {},
     "output_type": "execute_result"
    }
   ],
   "source": [
    "4 ** 0.5"
   ],
   "metadata": {
    "collapsed": false,
    "ExecuteTime": {
     "end_time": "2023-12-26T16:19:40.419197Z",
     "start_time": "2023-12-26T16:19:40.411577Z"
    }
   },
   "id": "81b938bf5e724f93"
  },
  {
   "cell_type": "code",
   "execution_count": 12,
   "outputs": [
    {
     "data": {
      "text/plain": "4.999999999999999"
     },
     "execution_count": 12,
     "metadata": {},
     "output_type": "execute_result"
    }
   ],
   "source": [
    "125 ** (1/3)"
   ],
   "metadata": {
    "collapsed": false,
    "ExecuteTime": {
     "end_time": "2023-12-26T16:20:41.142779Z",
     "start_time": "2023-12-26T16:20:41.139870Z"
    }
   },
   "id": "a14a1087d6a4d6a7"
  },
  {
   "cell_type": "markdown",
   "source": [
    "### Division with Remainder\n",
    "If $a$ and $b$ are two integers and $b\\ne0$ then there are integers $q$ and $r$ with $0\\le r<|b|$ such that\n",
    "$$a=qb+r$$\n",
    "$q$ is called the quotient and $r$ is called the remainder when you divide $a$ by $p$. In python you can calculate the remainder $r$ by using `a % b` and the quotient $q$ by using `a // b`."
   ],
   "metadata": {
    "collapsed": false
   },
   "id": "1ac1324a9f8d884f"
  },
  {
   "cell_type": "code",
   "execution_count": 13,
   "outputs": [
    {
     "data": {
      "text/plain": "2"
     },
     "execution_count": 13,
     "metadata": {},
     "output_type": "execute_result"
    }
   ],
   "source": [
    "7 // 3"
   ],
   "metadata": {
    "collapsed": false,
    "ExecuteTime": {
     "end_time": "2023-12-26T16:21:37.792734Z",
     "start_time": "2023-12-26T16:21:37.786753Z"
    }
   },
   "id": "88203be0c1da23c6"
  },
  {
   "cell_type": "code",
   "execution_count": 14,
   "outputs": [
    {
     "data": {
      "text/plain": "1"
     },
     "execution_count": 14,
     "metadata": {},
     "output_type": "execute_result"
    }
   ],
   "source": [
    "7 % 3"
   ],
   "metadata": {
    "collapsed": false,
    "ExecuteTime": {
     "end_time": "2023-12-26T16:21:59.280906Z",
     "start_time": "2023-12-26T16:21:59.274253Z"
    }
   },
   "id": "5dba4d2cc2cb99bf"
  },
  {
   "cell_type": "code",
   "execution_count": 15,
   "outputs": [
    {
     "data": {
      "text/plain": "3"
     },
     "execution_count": 15,
     "metadata": {},
     "output_type": "execute_result"
    }
   ],
   "source": [
    "16 // 5"
   ],
   "metadata": {
    "collapsed": false,
    "ExecuteTime": {
     "end_time": "2023-12-26T16:22:09.921999Z",
     "start_time": "2023-12-26T16:22:09.913029Z"
    }
   },
   "id": "9f9e22f0d9e9714a"
  },
  {
   "cell_type": "code",
   "execution_count": 16,
   "outputs": [
    {
     "data": {
      "text/plain": "1"
     },
     "execution_count": 16,
     "metadata": {},
     "output_type": "execute_result"
    }
   ],
   "source": [
    "16 % 5"
   ],
   "metadata": {
    "collapsed": false,
    "ExecuteTime": {
     "end_time": "2023-12-26T16:22:14.013622Z",
     "start_time": "2023-12-26T16:22:14.005458Z"
    }
   },
   "id": "acce00e90d5e285c"
  },
  {
   "cell_type": "code",
   "execution_count": 18,
   "outputs": [
    {
     "data": {
      "text/plain": "0"
     },
     "execution_count": 18,
     "metadata": {},
     "output_type": "execute_result"
    }
   ],
   "source": [
    "16 % 4 # Answer is 0 because 16 is divisible by 4"
   ],
   "metadata": {
    "collapsed": false,
    "ExecuteTime": {
     "end_time": "2023-12-26T16:26:25.414746Z",
     "start_time": "2023-12-26T16:26:25.411352Z"
    }
   },
   "id": "2b08182e0a3cbce6"
  },
  {
   "cell_type": "markdown",
   "source": [
    "### Use brackets to make meaning clear."
   ],
   "metadata": {
    "collapsed": false
   },
   "id": "6e2586e9706b20a3"
  },
  {
   "cell_type": "code",
   "execution_count": 23,
   "outputs": [
    {
     "data": {
      "text/plain": "31.709791983764582"
     },
     "execution_count": 23,
     "metadata": {},
     "output_type": "execute_result"
    }
   ],
   "source": [
    "1000000000 / 60 / 60 / 24 / 365 # Bad idea"
   ],
   "metadata": {
    "collapsed": false,
    "ExecuteTime": {
     "end_time": "2023-12-26T16:31:05.727980Z",
     "start_time": "2023-12-26T16:31:05.725339Z"
    }
   },
   "id": "40262be0cf8a7f29"
  },
  {
   "cell_type": "code",
   "execution_count": 24,
   "outputs": [
    {
     "data": {
      "text/plain": "31.709791983764585"
     },
     "execution_count": 24,
     "metadata": {},
     "output_type": "execute_result"
    }
   ],
   "source": [
    "1000000000 / (60 * 60 * 24 * 365) # Same result, but much clearer"
   ],
   "metadata": {
    "collapsed": false,
    "ExecuteTime": {
     "end_time": "2023-12-26T16:31:06.189642Z",
     "start_time": "2023-12-26T16:31:06.186010Z"
    }
   },
   "id": "d4a4a662e2cb56f"
  },
  {
   "cell_type": "markdown",
   "source": [
    "### Solving quadratic\n",
    "$ax^2+bx+c=0$ has roots\n",
    "$$x=\\frac{-b\\pm\\sqrt{b^{2}-4ac}}{2a}$$\n",
    "Now solve 2x^2+5x+2=0"
   ],
   "metadata": {
    "collapsed": false
   },
   "id": "620d4bc3c779f8ef"
  },
  {
   "cell_type": "code",
   "execution_count": 31,
   "outputs": [
    {
     "data": {
      "text/plain": "-0.5"
     },
     "execution_count": 31,
     "metadata": {},
     "output_type": "execute_result"
    }
   ],
   "source": [
    "(-5 + (5 ** 2 - 4 * 2 * 2) ** 0.5) / (2 * 2)"
   ],
   "metadata": {
    "collapsed": false,
    "ExecuteTime": {
     "end_time": "2023-12-26T16:36:03.242915Z",
     "start_time": "2023-12-26T16:36:03.234435Z"
    }
   },
   "id": "5bd2e1d303287d5d"
  },
  {
   "cell_type": "code",
   "execution_count": 32,
   "outputs": [
    {
     "data": {
      "text/plain": "-2.0"
     },
     "execution_count": 32,
     "metadata": {},
     "output_type": "execute_result"
    }
   ],
   "source": [
    "(-5 - (5 ** 2 - 4 * 2 * 2) ** 0.5) / (2 * 2)"
   ],
   "metadata": {
    "collapsed": false,
    "ExecuteTime": {
     "end_time": "2023-12-26T16:36:03.687769Z",
     "start_time": "2023-12-26T16:36:03.682074Z"
    }
   },
   "id": "c141f9ba7b8e7e24"
  },
  {
   "cell_type": "code",
   "execution_count": 33,
   "outputs": [
    {
     "data": {
      "text/plain": "0.0"
     },
     "execution_count": 33,
     "metadata": {},
     "output_type": "execute_result"
    }
   ],
   "source": [
    "2 * (-0.5) ** 2 + 5 * (-0.5) + 2"
   ],
   "metadata": {
    "collapsed": false,
    "ExecuteTime": {
     "end_time": "2023-12-26T16:36:27.395996Z",
     "start_time": "2023-12-26T16:36:27.388787Z"
    }
   },
   "id": "fd62cbe326c99885"
  },
  {
   "cell_type": "code",
   "execution_count": 34,
   "outputs": [
    {
     "data": {
      "text/plain": "0"
     },
     "execution_count": 34,
     "metadata": {},
     "output_type": "execute_result"
    }
   ],
   "source": [
    "2 * (-2) ** 2 + 5 * (-2) + 2"
   ],
   "metadata": {
    "collapsed": false,
    "ExecuteTime": {
     "end_time": "2023-12-26T16:36:43.901196Z",
     "start_time": "2023-12-26T16:36:43.888587Z"
    }
   },
   "id": "b46d8cd7bd86b28"
  },
  {
   "cell_type": "code",
   "execution_count": null,
   "outputs": [],
   "source": [],
   "metadata": {
    "collapsed": false
   },
   "id": "c90399d9a1377673"
  }
 ],
 "metadata": {
  "kernelspec": {
   "display_name": "Python 3",
   "language": "python",
   "name": "python3"
  },
  "language_info": {
   "codemirror_mode": {
    "name": "ipython",
    "version": 2
   },
   "file_extension": ".py",
   "mimetype": "text/x-python",
   "name": "python",
   "nbconvert_exporter": "python",
   "pygments_lexer": "ipython2",
   "version": "2.7.6"
  }
 },
 "nbformat": 4,
 "nbformat_minor": 5
}
