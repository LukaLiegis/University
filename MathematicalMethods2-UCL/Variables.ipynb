{
 "cells": [
  {
   "cell_type": "markdown",
   "source": [
    "### Creating and using Variables\n",
    "You can create a variable `a` and assign the value `10` to it by typing `a = 10`"
   ],
   "metadata": {
    "collapsed": false
   },
   "id": "1ff8e49db5d509b0"
  },
  {
   "cell_type": "code",
   "execution_count": 1,
   "id": "initial_id",
   "metadata": {
    "collapsed": true,
    "ExecuteTime": {
     "end_time": "2023-12-29T19:47:44.386661Z",
     "start_time": "2023-12-29T19:47:44.382241Z"
    }
   },
   "outputs": [],
   "source": [
    "a = 10"
   ]
  },
  {
   "cell_type": "code",
   "execution_count": 2,
   "outputs": [
    {
     "data": {
      "text/plain": "11"
     },
     "execution_count": 2,
     "metadata": {},
     "output_type": "execute_result"
    }
   ],
   "source": [
    "a + 1"
   ],
   "metadata": {
    "collapsed": false,
    "ExecuteTime": {
     "end_time": "2023-12-29T19:47:45.398799Z",
     "start_time": "2023-12-29T19:47:45.388602Z"
    }
   },
   "id": "475d288e2ee1735e"
  },
  {
   "cell_type": "code",
   "execution_count": 3,
   "outputs": [
    {
     "data": {
      "text/plain": "30"
     },
     "execution_count": 3,
     "metadata": {},
     "output_type": "execute_result"
    }
   ],
   "source": [
    "b = 20\n",
    "a + b"
   ],
   "metadata": {
    "collapsed": false,
    "ExecuteTime": {
     "end_time": "2023-12-29T19:47:55.647967Z",
     "start_time": "2023-12-29T19:47:55.642180Z"
    }
   },
   "id": "aaf5d3c27d05f51a"
  },
  {
   "cell_type": "code",
   "execution_count": 4,
   "outputs": [],
   "source": [
    "a = 20"
   ],
   "metadata": {
    "collapsed": false,
    "ExecuteTime": {
     "end_time": "2023-12-29T19:48:38.645193Z",
     "start_time": "2023-12-29T19:48:38.640989Z"
    }
   },
   "id": "1380ab3c2946b7a3"
  },
  {
   "cell_type": "code",
   "execution_count": 5,
   "outputs": [],
   "source": [
    "c = b + 5"
   ],
   "metadata": {
    "collapsed": false,
    "ExecuteTime": {
     "end_time": "2023-12-29T19:48:46.544238Z",
     "start_time": "2023-12-29T19:48:46.538716Z"
    }
   },
   "id": "e57993627c192cc"
  },
  {
   "cell_type": "code",
   "execution_count": 6,
   "outputs": [
    {
     "data": {
      "text/plain": "65"
     },
     "execution_count": 6,
     "metadata": {},
     "output_type": "execute_result"
    }
   ],
   "source": [
    "a + b + c"
   ],
   "metadata": {
    "collapsed": false,
    "ExecuteTime": {
     "end_time": "2023-12-29T19:48:52.904489Z",
     "start_time": "2023-12-29T19:48:52.896259Z"
    }
   },
   "id": "f039cd3285d57c1e"
  },
  {
   "cell_type": "markdown",
   "source": [
    "### Variable Names\n",
    "- Can be any length\n",
    "- Only characters allowed are\n",
    "    - lower case `abc...z` and upper case `ABC...Z` letters\n",
    "    - digits `0123456789` and underscore `_`\n",
    "- Cannot start with a digit"
   ],
   "metadata": {
    "collapsed": false
   },
   "id": "702d5424c24b515f"
  },
  {
   "cell_type": "code",
   "execution_count": 7,
   "outputs": [],
   "source": [
    "nearly_pi = 3.141592"
   ],
   "metadata": {
    "collapsed": false,
    "ExecuteTime": {
     "end_time": "2023-12-29T19:51:56.840292Z",
     "start_time": "2023-12-29T19:51:56.834142Z"
    }
   },
   "id": "11ff5ff0bf26f4a0"
  },
  {
   "cell_type": "code",
   "execution_count": 8,
   "outputs": [],
   "source": [
    "ABC123 = 7"
   ],
   "metadata": {
    "collapsed": false,
    "ExecuteTime": {
     "end_time": "2023-12-29T19:52:06.459320Z",
     "start_time": "2023-12-29T19:52:06.452768Z"
    }
   },
   "id": "2557b1819e839357"
  },
  {
   "cell_type": "code",
   "execution_count": 9,
   "outputs": [
    {
     "data": {
      "text/plain": "10.141592"
     },
     "execution_count": 9,
     "metadata": {},
     "output_type": "execute_result"
    }
   ],
   "source": [
    "nearly_pi + ABC123"
   ],
   "metadata": {
    "collapsed": false,
    "ExecuteTime": {
     "end_time": "2023-12-29T19:52:11.886592Z",
     "start_time": "2023-12-29T19:52:11.880268Z"
    }
   },
   "id": "5f5a611d61e9a804"
  },
  {
   "cell_type": "markdown",
   "source": [
    "### Quadratic Example"
   ],
   "metadata": {
    "collapsed": false
   },
   "id": "91dea11de023847a"
  },
  {
   "cell_type": "code",
   "execution_count": 10,
   "outputs": [],
   "source": [
    "a = 2\n",
    "b = 5\n",
    "c = 2\n",
    "root_plus = (-b + (b ** 2 - 4 * a * c) ** 0.5) / (2 * a)\n",
    "root_minus = (-b - (b ** 2 - 4 * a * c) ** 0.5) / (2 * a)"
   ],
   "metadata": {
    "collapsed": false,
    "ExecuteTime": {
     "end_time": "2023-12-29T19:54:41.349713Z",
     "start_time": "2023-12-29T19:54:41.342203Z"
    }
   },
   "id": "6c7c8bd61526abc4"
  },
  {
   "cell_type": "code",
   "execution_count": 11,
   "outputs": [
    {
     "data": {
      "text/plain": "0.0"
     },
     "execution_count": 11,
     "metadata": {},
     "output_type": "execute_result"
    }
   ],
   "source": [
    "2 * root_plus ** 2 + 5 * root_plus + 2"
   ],
   "metadata": {
    "collapsed": false,
    "ExecuteTime": {
     "end_time": "2023-12-29T19:55:17.641594Z",
     "start_time": "2023-12-29T19:55:17.634224Z"
    }
   },
   "id": "d2bf4772410cf897"
  },
  {
   "cell_type": "code",
   "execution_count": 12,
   "outputs": [
    {
     "data": {
      "text/plain": "0.0"
     },
     "execution_count": 12,
     "metadata": {},
     "output_type": "execute_result"
    }
   ],
   "source": [
    "2 * root_minus ** 2 + 5 * root_minus + 2"
   ],
   "metadata": {
    "collapsed": false,
    "ExecuteTime": {
     "end_time": "2023-12-29T19:55:32.474152Z",
     "start_time": "2023-12-29T19:55:32.466377Z"
    }
   },
   "id": "c00b1d0656acdfb7"
  },
  {
   "cell_type": "markdown",
   "source": [
    "### Other types of variables\n",
    "Variables don't just have to be numbers"
   ],
   "metadata": {
    "collapsed": false
   },
   "id": "eff4e25c836160a0"
  },
  {
   "cell_type": "code",
   "execution_count": 13,
   "outputs": [],
   "source": [
    "a = \"hello_world\""
   ],
   "metadata": {
    "collapsed": false,
    "ExecuteTime": {
     "end_time": "2023-12-29T19:56:26.608638Z",
     "start_time": "2023-12-29T19:56:26.582477Z"
    }
   },
   "id": "343c0b446cabe08b"
  },
  {
   "cell_type": "code",
   "execution_count": 14,
   "outputs": [],
   "source": [
    "my_list = [1, 2, 3]"
   ],
   "metadata": {
    "collapsed": false,
    "ExecuteTime": {
     "end_time": "2023-12-29T19:56:35.466656Z",
     "start_time": "2023-12-29T19:56:35.460110Z"
    }
   },
   "id": "85befb70fcf517cc"
  },
  {
   "cell_type": "code",
   "execution_count": null,
   "outputs": [],
   "source": [],
   "metadata": {
    "collapsed": false
   },
   "id": "5ff2a7d765e951e3"
  }
 ],
 "metadata": {
  "kernelspec": {
   "display_name": "Python 3",
   "language": "python",
   "name": "python3"
  },
  "language_info": {
   "codemirror_mode": {
    "name": "ipython",
    "version": 2
   },
   "file_extension": ".py",
   "mimetype": "text/x-python",
   "name": "python",
   "nbconvert_exporter": "python",
   "pygments_lexer": "ipython2",
   "version": "2.7.6"
  }
 },
 "nbformat": 4,
 "nbformat_minor": 5
}
